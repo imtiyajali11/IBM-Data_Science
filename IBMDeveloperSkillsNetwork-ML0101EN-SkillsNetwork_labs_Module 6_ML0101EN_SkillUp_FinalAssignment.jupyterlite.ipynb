{
  "metadata": {
    "language_info": {
      "codemirror_mode": {
        "name": "python",
        "version": 3
      },
      "file_extension": ".py",
      "mimetype": "text/x-python",
      "name": "python",
      "nbconvert_exporter": "python",
      "pygments_lexer": "ipython3",
      "version": "3.8"
    },
    "kernelspec": {
      "name": "python",
      "display_name": "Python (Pyodide)",
      "language": "python"
    }
  },
  "nbformat_minor": 4,
  "nbformat": 4,
  "cells": [
    {
      "cell_type": "markdown",
      "source": "<p style=\"text-align:center\">\n    <a href=\"https://skills.network/?utm_medium=Exinfluencer&utm_source=Exinfluencer&utm_content=000026UJ&utm_term=10006555&utm_id=NA-SkillsNetwork-Channel-SkillsNetworkCoursesIBMDeveloperSkillsNetworkML0101ENSkillsNetwork20718538-2022-01-01\" target=\"_blank\">\n    <img src=\"https://cf-courses-data.s3.us.cloud-object-storage.appdomain.cloud/assets/logos/SN_web_lightmode.png\" width=\"200\" alt=\"Skills Network Logo\">\n    </a>\n</p>\n\n<h1 align=\"center\"><font size=\"5\">Final Project: Classification with Python</font></h1>\n",
      "metadata": {}
    },
    {
      "cell_type": "markdown",
      "source": "<h2>Table of Contents</h2>\n<div class=\"alert alert-block alert-info\" style=\"margin-top: 20px\">\n    <ul>\n    <li><a href=\"https://#Section_1\">Instructions</a></li>\n    <li><a href=\"https://#Section_2\">About the Data</a></li>\n    <li><a href=\"https://#Section_3\">Importing Data </a></li>\n    <li><a href=\"https://#Section_4\">Data Preprocessing</a> </li>\n    <li><a href=\"https://#Section_5\">One Hot Encoding </a></li>\n    <li><a href=\"https://#Section_6\">Train and Test Data Split </a></li>\n    <li><a href=\"https://#Section_7\">Train Logistic Regression, KNN, Decision Tree, SVM, and Linear Regression models and return their appropriate accuracy scores</a></li>\n</a></li>\n</div>\n<p>Estimated Time Needed: <strong>180 min</strong></p>\n</div>\n\n<hr>\n",
      "metadata": {}
    },
    {
      "cell_type": "markdown",
      "source": "# Instructions\n",
      "metadata": {}
    },
    {
      "cell_type": "markdown",
      "source": "In this notebook, you will  practice all the classification algorithms that we have learned in this course.\n\n\nBelow, is where we are going to use the classification algorithms to create a model based on our training data and evaluate our testing data using evaluation metrics learned in the course.\n\nWe will use some of the algorithms taught in the course, specifically:\n\n1. Linear Regression\n2. KNN\n3. Decision Trees\n4. Logistic Regression\n5. SVM\n\nWe will evaluate our models using:\n\n1.  Accuracy Score\n2.  Jaccard Index\n3.  F1-Score\n4.  LogLoss\n5.  Mean Absolute Error\n6.  Mean Squared Error\n7.  R2-Score\n\nFinally, you will use your models to generate the report at the end. \n",
      "metadata": {}
    },
    {
      "cell_type": "markdown",
      "source": "# About The Dataset\n",
      "metadata": {}
    },
    {
      "cell_type": "markdown",
      "source": "The original source of the data is Australian Government's Bureau of Meteorology and the latest data can be gathered from [http://www.bom.gov.au/climate/dwo/](http://www.bom.gov.au/climate/dwo/?utm_medium=Exinfluencer&utm_source=Exinfluencer&utm_content=000026UJ&utm_term=10006555&utm_id=NA-SkillsNetwork-Channel-SkillsNetworkCoursesIBMDeveloperSkillsNetworkML0101ENSkillsNetwork20718538-2022-01-01).\n\nThe dataset to be used has extra columns like 'RainToday' and our target is 'RainTomorrow', which was gathered from the Rattle at [https://bitbucket.org/kayontoga/rattle/src/master/data/weatherAUS.RData](https://bitbucket.org/kayontoga/rattle/src/master/data/weatherAUS.RData?utm_medium=Exinfluencer&utm_source=Exinfluencer&utm_content=000026UJ&utm_term=10006555&utm_id=NA-SkillsNetwork-Channel-SkillsNetworkCoursesIBMDeveloperSkillsNetworkML0101ENSkillsNetwork20718538-2022-01-01)\n\n\n",
      "metadata": {}
    },
    {
      "cell_type": "markdown",
      "source": "This dataset contains observations of weather metrics for each day from 2008 to 2017. The **weatherAUS.csv** dataset includes the following fields:\n\n| Field         | Description                                           | Unit            | Type   |\n| ------------- | ----------------------------------------------------- | --------------- | ------ |\n| Date          | Date of the Observation in YYYY-MM-DD                 | Date            | object |\n| Location      | Location of the Observation                           | Location        | object |\n| MinTemp       | Minimum temperature                                   | Celsius         | float  |\n| MaxTemp       | Maximum temperature                                   | Celsius         | float  |\n| Rainfall      | Amount of rainfall                                    | Millimeters     | float  |\n| Evaporation   | Amount of evaporation                                 | Millimeters     | float  |\n| Sunshine      | Amount of bright sunshine                             | hours           | float  |\n| WindGustDir   | Direction of the strongest gust                       | Compass Points  | object |\n| WindGustSpeed | Speed of the strongest gust                           | Kilometers/Hour | object |\n| WindDir9am    | Wind direction averaged of 10 minutes prior to 9am    | Compass Points  | object |\n| WindDir3pm    | Wind direction averaged of 10 minutes prior to 3pm    | Compass Points  | object |\n| WindSpeed9am  | Wind speed averaged of 10 minutes prior to 9am        | Kilometers/Hour | float  |\n| WindSpeed3pm  | Wind speed averaged of 10 minutes prior to 3pm        | Kilometers/Hour | float  |\n| Humidity9am   | Humidity at 9am                                       | Percent         | float  |\n| Humidity3pm   | Humidity at 3pm                                       | Percent         | float  |\n| Pressure9am   | Atmospheric pressure reduced to mean sea level at 9am | Hectopascal     | float  |\n| Pressure3pm   | Atmospheric pressure reduced to mean sea level at 3pm | Hectopascal     | float  |\n| Cloud9am      | Fraction of the sky obscured by cloud at 9am          | Eights          | float  |\n| Cloud3pm      | Fraction of the sky obscured by cloud at 3pm          | Eights          | float  |\n| Temp9am       | Temperature at 9am                                    | Celsius         | float  |\n| Temp3pm       | Temperature at 3pm                                    | Celsius         | float  |\n| RainToday     | If there was rain today                               | Yes/No          | object |\n| RainTomorrow  | If there is rain tomorrow                             | Yes/No          | float  |\n\nColumn definitions were gathered from [http://www.bom.gov.au/climate/dwo/IDCJDW0000.shtml](http://www.bom.gov.au/climate/dwo/IDCJDW0000.shtml?utm_medium=Exinfluencer&utm_source=Exinfluencer&utm_content=000026UJ&utm_term=10006555&utm_id=NA-SkillsNetwork-Channel-SkillsNetworkCoursesIBMDeveloperSkillsNetworkML0101ENSkillsNetwork20718538-2022-01-01)\n\n",
      "metadata": {}
    },
    {
      "cell_type": "markdown",
      "source": "## **Import the required libraries**\n",
      "metadata": {}
    },
    {
      "cell_type": "code",
      "source": "# All Libraries required for this lab are listed below. The libraries pre-installed on Skills Network Labs are commented.\n# !mamba install -qy pandas==1.3.4 numpy==1.21.4 seaborn==0.9.0 matplotlib==3.5.0 scikit-learn==0.20.1\n# Note: If your environment doesn't support \"!mamba install\", use \"!pip install\"",
      "metadata": {},
      "execution_count": null,
      "outputs": []
    },
    {
      "cell_type": "code",
      "source": "# Surpress warnings:\ndef warn(*args, **kwargs):\n    pass\nimport warnings\nwarnings.warn = warn",
      "metadata": {
        "trusted": true
      },
      "execution_count": 1,
      "outputs": []
    },
    {
      "cell_type": "code",
      "source": "#you are running the lab in your  browser, so we will install the libraries using ``piplite``\nimport piplite\nawait piplite.install(['pandas'])\nawait piplite.install(['numpy'])\n",
      "metadata": {
        "trusted": true
      },
      "execution_count": 2,
      "outputs": []
    },
    {
      "cell_type": "code",
      "source": "import pandas as pd\nfrom sklearn.linear_model import LogisticRegression\nfrom sklearn.linear_model import LinearRegression\nfrom sklearn import preprocessing\nimport numpy as np\nfrom sklearn.neighbors import KNeighborsClassifier\nfrom sklearn.model_selection import train_test_split\nfrom sklearn.neighbors import KNeighborsClassifier\nfrom sklearn.tree import DecisionTreeClassifier\nfrom sklearn import svm\nfrom sklearn.metrics import jaccard_score\nfrom sklearn.metrics import f1_score\nfrom sklearn.metrics import log_loss\nfrom sklearn.metrics import confusion_matrix, accuracy_score\nimport sklearn.metrics as metrics",
      "metadata": {
        "trusted": true
      },
      "execution_count": 3,
      "outputs": []
    },
    {
      "cell_type": "markdown",
      "source": "### Importing the Dataset\n",
      "metadata": {}
    },
    {
      "cell_type": "code",
      "source": "from pyodide.http import pyfetch\n\nasync def download(url, filename):\n    response = await pyfetch(url)\n    if response.status == 200:\n        with open(filename, \"wb\") as f:\n            f.write(await response.bytes())",
      "metadata": {
        "trusted": true
      },
      "execution_count": 4,
      "outputs": []
    },
    {
      "cell_type": "code",
      "source": "path='https://cf-courses-data.s3.us.cloud-object-storage.appdomain.cloud/IBMDeveloperSkillsNetwork-ML0101EN-SkillUp/labs/ML-FinalAssignment/Weather_Data.csv'",
      "metadata": {
        "trusted": true
      },
      "execution_count": 5,
      "outputs": []
    },
    {
      "cell_type": "code",
      "source": "await download(path, \"Weather_Data.csv\")\nfilename =\"Weather_Data.csv\"",
      "metadata": {
        "trusted": true
      },
      "execution_count": 6,
      "outputs": []
    },
    {
      "cell_type": "code",
      "source": "df = pd.read_csv(\"Weather_Data.csv\")\ndf.head()",
      "metadata": {
        "trusted": true
      },
      "execution_count": 7,
      "outputs": [
        {
          "execution_count": 7,
          "output_type": "execute_result",
          "data": {
            "text/plain": "       Date  MinTemp  MaxTemp  Rainfall  Evaporation  Sunshine WindGustDir  \\\n0  2/1/2008     19.5     22.4      15.6          6.2       0.0           W   \n1  2/2/2008     19.5     25.6       6.0          3.4       2.7           W   \n2  2/3/2008     21.6     24.5       6.6          2.4       0.1           W   \n3  2/4/2008     20.2     22.8      18.8          2.2       0.0           W   \n4  2/5/2008     19.7     25.7      77.4          4.8       0.0           W   \n\n   WindGustSpeed WindDir9am WindDir3pm  ...  Humidity9am  Humidity3pm  \\\n0             41          S        SSW  ...           92           84   \n1             41          W          E  ...           83           73   \n2             41        ESE        ESE  ...           88           86   \n3             41        NNE          E  ...           83           90   \n4             41        NNE          W  ...           88           74   \n\n   Pressure9am  Pressure3pm  Cloud9am  Cloud3pm  Temp9am  Temp3pm  RainToday  \\\n0       1017.6       1017.4         8         8     20.7     20.9        Yes   \n1       1017.9       1016.4         7         7     22.4     24.8        Yes   \n2       1016.7       1015.6         7         8     23.5     23.0        Yes   \n3       1014.2       1011.8         8         8     21.4     20.9        Yes   \n4       1008.3       1004.8         8         8     22.5     25.5        Yes   \n\n   RainTomorrow  \n0           Yes  \n1           Yes  \n2           Yes  \n3           Yes  \n4           Yes  \n\n[5 rows x 22 columns]",
            "text/html": "<div>\n<style scoped>\n    .dataframe tbody tr th:only-of-type {\n        vertical-align: middle;\n    }\n\n    .dataframe tbody tr th {\n        vertical-align: top;\n    }\n\n    .dataframe thead th {\n        text-align: right;\n    }\n</style>\n<table border=\"1\" class=\"dataframe\">\n  <thead>\n    <tr style=\"text-align: right;\">\n      <th></th>\n      <th>Date</th>\n      <th>MinTemp</th>\n      <th>MaxTemp</th>\n      <th>Rainfall</th>\n      <th>Evaporation</th>\n      <th>Sunshine</th>\n      <th>WindGustDir</th>\n      <th>WindGustSpeed</th>\n      <th>WindDir9am</th>\n      <th>WindDir3pm</th>\n      <th>...</th>\n      <th>Humidity9am</th>\n      <th>Humidity3pm</th>\n      <th>Pressure9am</th>\n      <th>Pressure3pm</th>\n      <th>Cloud9am</th>\n      <th>Cloud3pm</th>\n      <th>Temp9am</th>\n      <th>Temp3pm</th>\n      <th>RainToday</th>\n      <th>RainTomorrow</th>\n    </tr>\n  </thead>\n  <tbody>\n    <tr>\n      <th>0</th>\n      <td>2/1/2008</td>\n      <td>19.5</td>\n      <td>22.4</td>\n      <td>15.6</td>\n      <td>6.2</td>\n      <td>0.0</td>\n      <td>W</td>\n      <td>41</td>\n      <td>S</td>\n      <td>SSW</td>\n      <td>...</td>\n      <td>92</td>\n      <td>84</td>\n      <td>1017.6</td>\n      <td>1017.4</td>\n      <td>8</td>\n      <td>8</td>\n      <td>20.7</td>\n      <td>20.9</td>\n      <td>Yes</td>\n      <td>Yes</td>\n    </tr>\n    <tr>\n      <th>1</th>\n      <td>2/2/2008</td>\n      <td>19.5</td>\n      <td>25.6</td>\n      <td>6.0</td>\n      <td>3.4</td>\n      <td>2.7</td>\n      <td>W</td>\n      <td>41</td>\n      <td>W</td>\n      <td>E</td>\n      <td>...</td>\n      <td>83</td>\n      <td>73</td>\n      <td>1017.9</td>\n      <td>1016.4</td>\n      <td>7</td>\n      <td>7</td>\n      <td>22.4</td>\n      <td>24.8</td>\n      <td>Yes</td>\n      <td>Yes</td>\n    </tr>\n    <tr>\n      <th>2</th>\n      <td>2/3/2008</td>\n      <td>21.6</td>\n      <td>24.5</td>\n      <td>6.6</td>\n      <td>2.4</td>\n      <td>0.1</td>\n      <td>W</td>\n      <td>41</td>\n      <td>ESE</td>\n      <td>ESE</td>\n      <td>...</td>\n      <td>88</td>\n      <td>86</td>\n      <td>1016.7</td>\n      <td>1015.6</td>\n      <td>7</td>\n      <td>8</td>\n      <td>23.5</td>\n      <td>23.0</td>\n      <td>Yes</td>\n      <td>Yes</td>\n    </tr>\n    <tr>\n      <th>3</th>\n      <td>2/4/2008</td>\n      <td>20.2</td>\n      <td>22.8</td>\n      <td>18.8</td>\n      <td>2.2</td>\n      <td>0.0</td>\n      <td>W</td>\n      <td>41</td>\n      <td>NNE</td>\n      <td>E</td>\n      <td>...</td>\n      <td>83</td>\n      <td>90</td>\n      <td>1014.2</td>\n      <td>1011.8</td>\n      <td>8</td>\n      <td>8</td>\n      <td>21.4</td>\n      <td>20.9</td>\n      <td>Yes</td>\n      <td>Yes</td>\n    </tr>\n    <tr>\n      <th>4</th>\n      <td>2/5/2008</td>\n      <td>19.7</td>\n      <td>25.7</td>\n      <td>77.4</td>\n      <td>4.8</td>\n      <td>0.0</td>\n      <td>W</td>\n      <td>41</td>\n      <td>NNE</td>\n      <td>W</td>\n      <td>...</td>\n      <td>88</td>\n      <td>74</td>\n      <td>1008.3</td>\n      <td>1004.8</td>\n      <td>8</td>\n      <td>8</td>\n      <td>22.5</td>\n      <td>25.5</td>\n      <td>Yes</td>\n      <td>Yes</td>\n    </tr>\n  </tbody>\n</table>\n<p>5 rows × 22 columns</p>\n</div>"
          },
          "metadata": {}
        }
      ]
    },
    {
      "cell_type": "markdown",
      "source": "### Data Preprocessing\n",
      "metadata": {}
    },
    {
      "cell_type": "markdown",
      "source": "#### One Hot Encoding\n",
      "metadata": {}
    },
    {
      "cell_type": "markdown",
      "source": "First, we need to perform one hot encoding to convert categorical variables to binary variables.\n",
      "metadata": {}
    },
    {
      "cell_type": "code",
      "source": "df_sydney_processed = pd.get_dummies(data=df, columns=['RainToday', 'WindGustDir', 'WindDir9am', 'WindDir3pm'])",
      "metadata": {
        "trusted": true
      },
      "execution_count": 8,
      "outputs": []
    },
    {
      "cell_type": "markdown",
      "source": "Next, we replace the values of the 'RainTomorrow' column changing them from a categorical column to a binary column. We do not use the `get_dummies` method because we would end up with two columns for 'RainTomorrow' and we do not want, since 'RainTomorrow' is our target.\n",
      "metadata": {}
    },
    {
      "cell_type": "code",
      "source": "df_sydney_processed.replace(['No', 'Yes'], [0,1], inplace=True)",
      "metadata": {
        "trusted": true
      },
      "execution_count": 9,
      "outputs": []
    },
    {
      "cell_type": "markdown",
      "source": "### Training Data and Test Data\n",
      "metadata": {}
    },
    {
      "cell_type": "markdown",
      "source": "Now, we set our 'features' or x values and our Y or target variable.\n",
      "metadata": {}
    },
    {
      "cell_type": "code",
      "source": "df_sydney_processed.drop('Date',axis=1,inplace=True)",
      "metadata": {
        "trusted": true
      },
      "execution_count": 10,
      "outputs": []
    },
    {
      "cell_type": "code",
      "source": "df_sydney_processed = df_sydney_processed.astype(float)",
      "metadata": {
        "trusted": true
      },
      "execution_count": 11,
      "outputs": []
    },
    {
      "cell_type": "code",
      "source": "features = df_sydney_processed.drop(columns='RainTomorrow', axis=1)\nY = df_sydney_processed['RainTomorrow']",
      "metadata": {
        "trusted": true
      },
      "execution_count": 20,
      "outputs": []
    },
    {
      "cell_type": "code",
      "source": "features",
      "metadata": {
        "trusted": true
      },
      "execution_count": 21,
      "outputs": [
        {
          "execution_count": 21,
          "output_type": "execute_result",
          "data": {
            "text/plain": "      MinTemp  MaxTemp  Rainfall  Evaporation  Sunshine  WindGustSpeed  \\\n0        19.5     22.4      15.6          6.2       0.0           41.0   \n1        19.5     25.6       6.0          3.4       2.7           41.0   \n2        21.6     24.5       6.6          2.4       0.1           41.0   \n3        20.2     22.8      18.8          2.2       0.0           41.0   \n4        19.7     25.7      77.4          4.8       0.0           41.0   \n...       ...      ...       ...          ...       ...            ...   \n3266      8.6     19.6       0.0          2.0       7.8           37.0   \n3267      9.3     19.2       0.0          2.0       9.2           30.0   \n3268      9.4     17.7       0.0          2.4       2.7           24.0   \n3269     10.1     19.3       0.0          1.4       9.3           43.0   \n3270      7.6     19.3       0.0          3.4       9.4           35.0   \n\n      WindSpeed9am  WindSpeed3pm  Humidity9am  Humidity3pm  ...  \\\n0             17.0          20.0         92.0         84.0  ...   \n1              9.0          13.0         83.0         73.0  ...   \n2             17.0           2.0         88.0         86.0  ...   \n3             22.0          20.0         83.0         90.0  ...   \n4             11.0           6.0         88.0         74.0  ...   \n...            ...           ...          ...          ...  ...   \n3266          22.0          20.0         73.0         52.0  ...   \n3267          20.0           7.0         78.0         53.0  ...   \n3268          15.0          13.0         85.0         56.0  ...   \n3269          17.0          19.0         56.0         35.0  ...   \n3270          13.0          13.0         73.0         32.0  ...   \n\n      WindDir3pm_NNW  WindDir3pm_NW  WindDir3pm_S  WindDir3pm_SE  \\\n0                0.0            0.0           0.0            0.0   \n1                0.0            0.0           0.0            0.0   \n2                0.0            0.0           0.0            0.0   \n3                0.0            0.0           0.0            0.0   \n4                0.0            0.0           0.0            0.0   \n...              ...            ...           ...            ...   \n3266             0.0            0.0           0.0            0.0   \n3267             0.0            0.0           0.0            0.0   \n3268             0.0            0.0           0.0            0.0   \n3269             0.0            0.0           0.0            0.0   \n3270             0.0            0.0           0.0            0.0   \n\n      WindDir3pm_SSE  WindDir3pm_SSW  WindDir3pm_SW  WindDir3pm_W  \\\n0                0.0             1.0            0.0           0.0   \n1                0.0             0.0            0.0           0.0   \n2                0.0             0.0            0.0           0.0   \n3                0.0             0.0            0.0           0.0   \n4                0.0             0.0            0.0           1.0   \n...              ...             ...            ...           ...   \n3266             1.0             0.0            0.0           0.0   \n3267             0.0             0.0            0.0           0.0   \n3268             0.0             0.0            0.0           0.0   \n3269             0.0             0.0            0.0           1.0   \n3270             0.0             0.0            0.0           1.0   \n\n      WindDir3pm_WNW  WindDir3pm_WSW  \n0                0.0             0.0  \n1                0.0             0.0  \n2                0.0             0.0  \n3                0.0             0.0  \n4                0.0             0.0  \n...              ...             ...  \n3266             0.0             0.0  \n3267             0.0             0.0  \n3268             0.0             0.0  \n3269             0.0             0.0  \n3270             0.0             0.0  \n\n[3271 rows x 66 columns]",
            "text/html": "<div>\n<style scoped>\n    .dataframe tbody tr th:only-of-type {\n        vertical-align: middle;\n    }\n\n    .dataframe tbody tr th {\n        vertical-align: top;\n    }\n\n    .dataframe thead th {\n        text-align: right;\n    }\n</style>\n<table border=\"1\" class=\"dataframe\">\n  <thead>\n    <tr style=\"text-align: right;\">\n      <th></th>\n      <th>MinTemp</th>\n      <th>MaxTemp</th>\n      <th>Rainfall</th>\n      <th>Evaporation</th>\n      <th>Sunshine</th>\n      <th>WindGustSpeed</th>\n      <th>WindSpeed9am</th>\n      <th>WindSpeed3pm</th>\n      <th>Humidity9am</th>\n      <th>Humidity3pm</th>\n      <th>...</th>\n      <th>WindDir3pm_NNW</th>\n      <th>WindDir3pm_NW</th>\n      <th>WindDir3pm_S</th>\n      <th>WindDir3pm_SE</th>\n      <th>WindDir3pm_SSE</th>\n      <th>WindDir3pm_SSW</th>\n      <th>WindDir3pm_SW</th>\n      <th>WindDir3pm_W</th>\n      <th>WindDir3pm_WNW</th>\n      <th>WindDir3pm_WSW</th>\n    </tr>\n  </thead>\n  <tbody>\n    <tr>\n      <th>0</th>\n      <td>19.5</td>\n      <td>22.4</td>\n      <td>15.6</td>\n      <td>6.2</td>\n      <td>0.0</td>\n      <td>41.0</td>\n      <td>17.0</td>\n      <td>20.0</td>\n      <td>92.0</td>\n      <td>84.0</td>\n      <td>...</td>\n      <td>0.0</td>\n      <td>0.0</td>\n      <td>0.0</td>\n      <td>0.0</td>\n      <td>0.0</td>\n      <td>1.0</td>\n      <td>0.0</td>\n      <td>0.0</td>\n      <td>0.0</td>\n      <td>0.0</td>\n    </tr>\n    <tr>\n      <th>1</th>\n      <td>19.5</td>\n      <td>25.6</td>\n      <td>6.0</td>\n      <td>3.4</td>\n      <td>2.7</td>\n      <td>41.0</td>\n      <td>9.0</td>\n      <td>13.0</td>\n      <td>83.0</td>\n      <td>73.0</td>\n      <td>...</td>\n      <td>0.0</td>\n      <td>0.0</td>\n      <td>0.0</td>\n      <td>0.0</td>\n      <td>0.0</td>\n      <td>0.0</td>\n      <td>0.0</td>\n      <td>0.0</td>\n      <td>0.0</td>\n      <td>0.0</td>\n    </tr>\n    <tr>\n      <th>2</th>\n      <td>21.6</td>\n      <td>24.5</td>\n      <td>6.6</td>\n      <td>2.4</td>\n      <td>0.1</td>\n      <td>41.0</td>\n      <td>17.0</td>\n      <td>2.0</td>\n      <td>88.0</td>\n      <td>86.0</td>\n      <td>...</td>\n      <td>0.0</td>\n      <td>0.0</td>\n      <td>0.0</td>\n      <td>0.0</td>\n      <td>0.0</td>\n      <td>0.0</td>\n      <td>0.0</td>\n      <td>0.0</td>\n      <td>0.0</td>\n      <td>0.0</td>\n    </tr>\n    <tr>\n      <th>3</th>\n      <td>20.2</td>\n      <td>22.8</td>\n      <td>18.8</td>\n      <td>2.2</td>\n      <td>0.0</td>\n      <td>41.0</td>\n      <td>22.0</td>\n      <td>20.0</td>\n      <td>83.0</td>\n      <td>90.0</td>\n      <td>...</td>\n      <td>0.0</td>\n      <td>0.0</td>\n      <td>0.0</td>\n      <td>0.0</td>\n      <td>0.0</td>\n      <td>0.0</td>\n      <td>0.0</td>\n      <td>0.0</td>\n      <td>0.0</td>\n      <td>0.0</td>\n    </tr>\n    <tr>\n      <th>4</th>\n      <td>19.7</td>\n      <td>25.7</td>\n      <td>77.4</td>\n      <td>4.8</td>\n      <td>0.0</td>\n      <td>41.0</td>\n      <td>11.0</td>\n      <td>6.0</td>\n      <td>88.0</td>\n      <td>74.0</td>\n      <td>...</td>\n      <td>0.0</td>\n      <td>0.0</td>\n      <td>0.0</td>\n      <td>0.0</td>\n      <td>0.0</td>\n      <td>0.0</td>\n      <td>0.0</td>\n      <td>1.0</td>\n      <td>0.0</td>\n      <td>0.0</td>\n    </tr>\n    <tr>\n      <th>...</th>\n      <td>...</td>\n      <td>...</td>\n      <td>...</td>\n      <td>...</td>\n      <td>...</td>\n      <td>...</td>\n      <td>...</td>\n      <td>...</td>\n      <td>...</td>\n      <td>...</td>\n      <td>...</td>\n      <td>...</td>\n      <td>...</td>\n      <td>...</td>\n      <td>...</td>\n      <td>...</td>\n      <td>...</td>\n      <td>...</td>\n      <td>...</td>\n      <td>...</td>\n      <td>...</td>\n    </tr>\n    <tr>\n      <th>3266</th>\n      <td>8.6</td>\n      <td>19.6</td>\n      <td>0.0</td>\n      <td>2.0</td>\n      <td>7.8</td>\n      <td>37.0</td>\n      <td>22.0</td>\n      <td>20.0</td>\n      <td>73.0</td>\n      <td>52.0</td>\n      <td>...</td>\n      <td>0.0</td>\n      <td>0.0</td>\n      <td>0.0</td>\n      <td>0.0</td>\n      <td>1.0</td>\n      <td>0.0</td>\n      <td>0.0</td>\n      <td>0.0</td>\n      <td>0.0</td>\n      <td>0.0</td>\n    </tr>\n    <tr>\n      <th>3267</th>\n      <td>9.3</td>\n      <td>19.2</td>\n      <td>0.0</td>\n      <td>2.0</td>\n      <td>9.2</td>\n      <td>30.0</td>\n      <td>20.0</td>\n      <td>7.0</td>\n      <td>78.0</td>\n      <td>53.0</td>\n      <td>...</td>\n      <td>0.0</td>\n      <td>0.0</td>\n      <td>0.0</td>\n      <td>0.0</td>\n      <td>0.0</td>\n      <td>0.0</td>\n      <td>0.0</td>\n      <td>0.0</td>\n      <td>0.0</td>\n      <td>0.0</td>\n    </tr>\n    <tr>\n      <th>3268</th>\n      <td>9.4</td>\n      <td>17.7</td>\n      <td>0.0</td>\n      <td>2.4</td>\n      <td>2.7</td>\n      <td>24.0</td>\n      <td>15.0</td>\n      <td>13.0</td>\n      <td>85.0</td>\n      <td>56.0</td>\n      <td>...</td>\n      <td>0.0</td>\n      <td>0.0</td>\n      <td>0.0</td>\n      <td>0.0</td>\n      <td>0.0</td>\n      <td>0.0</td>\n      <td>0.0</td>\n      <td>0.0</td>\n      <td>0.0</td>\n      <td>0.0</td>\n    </tr>\n    <tr>\n      <th>3269</th>\n      <td>10.1</td>\n      <td>19.3</td>\n      <td>0.0</td>\n      <td>1.4</td>\n      <td>9.3</td>\n      <td>43.0</td>\n      <td>17.0</td>\n      <td>19.0</td>\n      <td>56.0</td>\n      <td>35.0</td>\n      <td>...</td>\n      <td>0.0</td>\n      <td>0.0</td>\n      <td>0.0</td>\n      <td>0.0</td>\n      <td>0.0</td>\n      <td>0.0</td>\n      <td>0.0</td>\n      <td>1.0</td>\n      <td>0.0</td>\n      <td>0.0</td>\n    </tr>\n    <tr>\n      <th>3270</th>\n      <td>7.6</td>\n      <td>19.3</td>\n      <td>0.0</td>\n      <td>3.4</td>\n      <td>9.4</td>\n      <td>35.0</td>\n      <td>13.0</td>\n      <td>13.0</td>\n      <td>73.0</td>\n      <td>32.0</td>\n      <td>...</td>\n      <td>0.0</td>\n      <td>0.0</td>\n      <td>0.0</td>\n      <td>0.0</td>\n      <td>0.0</td>\n      <td>0.0</td>\n      <td>0.0</td>\n      <td>1.0</td>\n      <td>0.0</td>\n      <td>0.0</td>\n    </tr>\n  </tbody>\n</table>\n<p>3271 rows × 66 columns</p>\n</div>"
          },
          "metadata": {}
        }
      ]
    },
    {
      "cell_type": "code",
      "source": "Y.head()",
      "metadata": {
        "trusted": true
      },
      "execution_count": 17,
      "outputs": [
        {
          "execution_count": 17,
          "output_type": "execute_result",
          "data": {
            "text/plain": "0    1.0\n1    1.0\n2    1.0\n3    1.0\n4    1.0\nName: RainTomorrow, dtype: float64"
          },
          "metadata": {}
        }
      ]
    },
    {
      "cell_type": "code",
      "source": "df_sydney_processed.head()",
      "metadata": {
        "trusted": true
      },
      "execution_count": 18,
      "outputs": [
        {
          "execution_count": 18,
          "output_type": "execute_result",
          "data": {
            "text/plain": "   MinTemp  MaxTemp  Rainfall  Evaporation  Sunshine  WindGustSpeed  \\\n0     19.5     22.4      15.6          6.2       0.0           41.0   \n1     19.5     25.6       6.0          3.4       2.7           41.0   \n2     21.6     24.5       6.6          2.4       0.1           41.0   \n3     20.2     22.8      18.8          2.2       0.0           41.0   \n4     19.7     25.7      77.4          4.8       0.0           41.0   \n\n   WindSpeed9am  WindSpeed3pm  Humidity9am  Humidity3pm  ...  WindDir3pm_NNW  \\\n0          17.0          20.0         92.0         84.0  ...             0.0   \n1           9.0          13.0         83.0         73.0  ...             0.0   \n2          17.0           2.0         88.0         86.0  ...             0.0   \n3          22.0          20.0         83.0         90.0  ...             0.0   \n4          11.0           6.0         88.0         74.0  ...             0.0   \n\n   WindDir3pm_NW  WindDir3pm_S  WindDir3pm_SE  WindDir3pm_SSE  WindDir3pm_SSW  \\\n0            0.0           0.0            0.0             0.0             1.0   \n1            0.0           0.0            0.0             0.0             0.0   \n2            0.0           0.0            0.0             0.0             0.0   \n3            0.0           0.0            0.0             0.0             0.0   \n4            0.0           0.0            0.0             0.0             0.0   \n\n   WindDir3pm_SW  WindDir3pm_W  WindDir3pm_WNW  WindDir3pm_WSW  \n0            0.0           0.0             0.0             0.0  \n1            0.0           0.0             0.0             0.0  \n2            0.0           0.0             0.0             0.0  \n3            0.0           0.0             0.0             0.0  \n4            0.0           1.0             0.0             0.0  \n\n[5 rows x 67 columns]",
            "text/html": "<div>\n<style scoped>\n    .dataframe tbody tr th:only-of-type {\n        vertical-align: middle;\n    }\n\n    .dataframe tbody tr th {\n        vertical-align: top;\n    }\n\n    .dataframe thead th {\n        text-align: right;\n    }\n</style>\n<table border=\"1\" class=\"dataframe\">\n  <thead>\n    <tr style=\"text-align: right;\">\n      <th></th>\n      <th>MinTemp</th>\n      <th>MaxTemp</th>\n      <th>Rainfall</th>\n      <th>Evaporation</th>\n      <th>Sunshine</th>\n      <th>WindGustSpeed</th>\n      <th>WindSpeed9am</th>\n      <th>WindSpeed3pm</th>\n      <th>Humidity9am</th>\n      <th>Humidity3pm</th>\n      <th>...</th>\n      <th>WindDir3pm_NNW</th>\n      <th>WindDir3pm_NW</th>\n      <th>WindDir3pm_S</th>\n      <th>WindDir3pm_SE</th>\n      <th>WindDir3pm_SSE</th>\n      <th>WindDir3pm_SSW</th>\n      <th>WindDir3pm_SW</th>\n      <th>WindDir3pm_W</th>\n      <th>WindDir3pm_WNW</th>\n      <th>WindDir3pm_WSW</th>\n    </tr>\n  </thead>\n  <tbody>\n    <tr>\n      <th>0</th>\n      <td>19.5</td>\n      <td>22.4</td>\n      <td>15.6</td>\n      <td>6.2</td>\n      <td>0.0</td>\n      <td>41.0</td>\n      <td>17.0</td>\n      <td>20.0</td>\n      <td>92.0</td>\n      <td>84.0</td>\n      <td>...</td>\n      <td>0.0</td>\n      <td>0.0</td>\n      <td>0.0</td>\n      <td>0.0</td>\n      <td>0.0</td>\n      <td>1.0</td>\n      <td>0.0</td>\n      <td>0.0</td>\n      <td>0.0</td>\n      <td>0.0</td>\n    </tr>\n    <tr>\n      <th>1</th>\n      <td>19.5</td>\n      <td>25.6</td>\n      <td>6.0</td>\n      <td>3.4</td>\n      <td>2.7</td>\n      <td>41.0</td>\n      <td>9.0</td>\n      <td>13.0</td>\n      <td>83.0</td>\n      <td>73.0</td>\n      <td>...</td>\n      <td>0.0</td>\n      <td>0.0</td>\n      <td>0.0</td>\n      <td>0.0</td>\n      <td>0.0</td>\n      <td>0.0</td>\n      <td>0.0</td>\n      <td>0.0</td>\n      <td>0.0</td>\n      <td>0.0</td>\n    </tr>\n    <tr>\n      <th>2</th>\n      <td>21.6</td>\n      <td>24.5</td>\n      <td>6.6</td>\n      <td>2.4</td>\n      <td>0.1</td>\n      <td>41.0</td>\n      <td>17.0</td>\n      <td>2.0</td>\n      <td>88.0</td>\n      <td>86.0</td>\n      <td>...</td>\n      <td>0.0</td>\n      <td>0.0</td>\n      <td>0.0</td>\n      <td>0.0</td>\n      <td>0.0</td>\n      <td>0.0</td>\n      <td>0.0</td>\n      <td>0.0</td>\n      <td>0.0</td>\n      <td>0.0</td>\n    </tr>\n    <tr>\n      <th>3</th>\n      <td>20.2</td>\n      <td>22.8</td>\n      <td>18.8</td>\n      <td>2.2</td>\n      <td>0.0</td>\n      <td>41.0</td>\n      <td>22.0</td>\n      <td>20.0</td>\n      <td>83.0</td>\n      <td>90.0</td>\n      <td>...</td>\n      <td>0.0</td>\n      <td>0.0</td>\n      <td>0.0</td>\n      <td>0.0</td>\n      <td>0.0</td>\n      <td>0.0</td>\n      <td>0.0</td>\n      <td>0.0</td>\n      <td>0.0</td>\n      <td>0.0</td>\n    </tr>\n    <tr>\n      <th>4</th>\n      <td>19.7</td>\n      <td>25.7</td>\n      <td>77.4</td>\n      <td>4.8</td>\n      <td>0.0</td>\n      <td>41.0</td>\n      <td>11.0</td>\n      <td>6.0</td>\n      <td>88.0</td>\n      <td>74.0</td>\n      <td>...</td>\n      <td>0.0</td>\n      <td>0.0</td>\n      <td>0.0</td>\n      <td>0.0</td>\n      <td>0.0</td>\n      <td>0.0</td>\n      <td>0.0</td>\n      <td>1.0</td>\n      <td>0.0</td>\n      <td>0.0</td>\n    </tr>\n  </tbody>\n</table>\n<p>5 rows × 67 columns</p>\n</div>"
          },
          "metadata": {}
        }
      ]
    },
    {
      "cell_type": "markdown",
      "source": "### Linear Regression\n",
      "metadata": {}
    },
    {
      "cell_type": "markdown",
      "source": "#### Q1) Use the `train_test_split` function to split the `features` and `Y` dataframes with a `test_size` of `0.2` and the `random_state` set to `10`.\n",
      "metadata": {}
    },
    {
      "cell_type": "code",
      "source": "#Enter Your Code, Execute and take the Screenshot\n\n# Split the data into training and testing sets\nx_train, x_test, y_train, y_test = train_test_split(features, Y, test_size=0.2, random_state=10)\n",
      "metadata": {
        "trusted": true
      },
      "execution_count": 24,
      "outputs": []
    },
    {
      "cell_type": "code",
      "source": "x_train",
      "metadata": {
        "trusted": true
      },
      "execution_count": 26,
      "outputs": [
        {
          "execution_count": 26,
          "output_type": "execute_result",
          "data": {
            "text/plain": "      MinTemp  MaxTemp  Rainfall  Evaporation  Sunshine  WindGustSpeed  \\\n3188     14.8     22.0      33.8          4.2       1.5           50.0   \n2582      8.1     18.4       0.0          4.8       8.5           41.0   \n815      15.4     21.1       0.0          3.8       5.9           41.0   \n1024     20.0     26.5       0.0          8.6      13.1           30.0   \n1320     14.8     18.3      38.8          7.4       0.1           48.0   \n...       ...      ...       ...          ...       ...            ...   \n3195     11.7     17.9       8.8          7.8       6.1           54.0   \n1344     17.0     21.7       0.0          5.4      10.7           26.0   \n527       6.7     17.3       0.0          2.6       6.9           41.0   \n3197     15.0     22.7       9.4          4.2       2.8           43.0   \n1289     15.9     30.1       0.2          7.6      12.2           33.0   \n\n      WindSpeed9am  WindSpeed3pm  Humidity9am  Humidity3pm  ...  \\\n3188          19.0          24.0         90.0         49.0  ...   \n2582          20.0          11.0         70.0         50.0  ...   \n815            7.0          28.0         59.0         41.0  ...   \n1024           7.0          20.0         64.0         63.0  ...   \n1320          19.0          24.0         93.0         86.0  ...   \n...            ...           ...          ...          ...  ...   \n3195          26.0          26.0         51.0         56.0  ...   \n1344          15.0          20.0         50.0         47.0  ...   \n527           17.0           7.0         79.0         42.0  ...   \n3197          19.0          17.0         71.0         75.0  ...   \n1289          11.0           9.0         59.0         39.0  ...   \n\n      WindDir3pm_NNW  WindDir3pm_NW  WindDir3pm_S  WindDir3pm_SE  \\\n3188             0.0            0.0           0.0            0.0   \n2582             0.0            0.0           0.0            0.0   \n815              0.0            0.0           0.0            0.0   \n1024             0.0            0.0           0.0            0.0   \n1320             0.0            0.0           0.0            0.0   \n...              ...            ...           ...            ...   \n3195             0.0            0.0           0.0            0.0   \n1344             0.0            0.0           0.0            0.0   \n527              0.0            1.0           0.0            0.0   \n3197             0.0            0.0           0.0            0.0   \n1289             0.0            0.0           0.0            0.0   \n\n      WindDir3pm_SSE  WindDir3pm_SSW  WindDir3pm_SW  WindDir3pm_W  \\\n3188             0.0             0.0            0.0           0.0   \n2582             0.0             0.0            0.0           0.0   \n815              0.0             0.0            0.0           1.0   \n1024             0.0             0.0            0.0           0.0   \n1320             1.0             0.0            0.0           0.0   \n...              ...             ...            ...           ...   \n3195             0.0             0.0            0.0           1.0   \n1344             0.0             0.0            0.0           0.0   \n527              0.0             0.0            0.0           0.0   \n3197             0.0             1.0            0.0           0.0   \n1289             0.0             0.0            0.0           0.0   \n\n      WindDir3pm_WNW  WindDir3pm_WSW  \n3188             0.0             0.0  \n2582             0.0             0.0  \n815              0.0             0.0  \n1024             0.0             0.0  \n1320             0.0             0.0  \n...              ...             ...  \n3195             0.0             0.0  \n1344             0.0             0.0  \n527              0.0             0.0  \n3197             0.0             0.0  \n1289             0.0             0.0  \n\n[2616 rows x 66 columns]",
            "text/html": "<div>\n<style scoped>\n    .dataframe tbody tr th:only-of-type {\n        vertical-align: middle;\n    }\n\n    .dataframe tbody tr th {\n        vertical-align: top;\n    }\n\n    .dataframe thead th {\n        text-align: right;\n    }\n</style>\n<table border=\"1\" class=\"dataframe\">\n  <thead>\n    <tr style=\"text-align: right;\">\n      <th></th>\n      <th>MinTemp</th>\n      <th>MaxTemp</th>\n      <th>Rainfall</th>\n      <th>Evaporation</th>\n      <th>Sunshine</th>\n      <th>WindGustSpeed</th>\n      <th>WindSpeed9am</th>\n      <th>WindSpeed3pm</th>\n      <th>Humidity9am</th>\n      <th>Humidity3pm</th>\n      <th>...</th>\n      <th>WindDir3pm_NNW</th>\n      <th>WindDir3pm_NW</th>\n      <th>WindDir3pm_S</th>\n      <th>WindDir3pm_SE</th>\n      <th>WindDir3pm_SSE</th>\n      <th>WindDir3pm_SSW</th>\n      <th>WindDir3pm_SW</th>\n      <th>WindDir3pm_W</th>\n      <th>WindDir3pm_WNW</th>\n      <th>WindDir3pm_WSW</th>\n    </tr>\n  </thead>\n  <tbody>\n    <tr>\n      <th>3188</th>\n      <td>14.8</td>\n      <td>22.0</td>\n      <td>33.8</td>\n      <td>4.2</td>\n      <td>1.5</td>\n      <td>50.0</td>\n      <td>19.0</td>\n      <td>24.0</td>\n      <td>90.0</td>\n      <td>49.0</td>\n      <td>...</td>\n      <td>0.0</td>\n      <td>0.0</td>\n      <td>0.0</td>\n      <td>0.0</td>\n      <td>0.0</td>\n      <td>0.0</td>\n      <td>0.0</td>\n      <td>0.0</td>\n      <td>0.0</td>\n      <td>0.0</td>\n    </tr>\n    <tr>\n      <th>2582</th>\n      <td>8.1</td>\n      <td>18.4</td>\n      <td>0.0</td>\n      <td>4.8</td>\n      <td>8.5</td>\n      <td>41.0</td>\n      <td>20.0</td>\n      <td>11.0</td>\n      <td>70.0</td>\n      <td>50.0</td>\n      <td>...</td>\n      <td>0.0</td>\n      <td>0.0</td>\n      <td>0.0</td>\n      <td>0.0</td>\n      <td>0.0</td>\n      <td>0.0</td>\n      <td>0.0</td>\n      <td>0.0</td>\n      <td>0.0</td>\n      <td>0.0</td>\n    </tr>\n    <tr>\n      <th>815</th>\n      <td>15.4</td>\n      <td>21.1</td>\n      <td>0.0</td>\n      <td>3.8</td>\n      <td>5.9</td>\n      <td>41.0</td>\n      <td>7.0</td>\n      <td>28.0</td>\n      <td>59.0</td>\n      <td>41.0</td>\n      <td>...</td>\n      <td>0.0</td>\n      <td>0.0</td>\n      <td>0.0</td>\n      <td>0.0</td>\n      <td>0.0</td>\n      <td>0.0</td>\n      <td>0.0</td>\n      <td>1.0</td>\n      <td>0.0</td>\n      <td>0.0</td>\n    </tr>\n    <tr>\n      <th>1024</th>\n      <td>20.0</td>\n      <td>26.5</td>\n      <td>0.0</td>\n      <td>8.6</td>\n      <td>13.1</td>\n      <td>30.0</td>\n      <td>7.0</td>\n      <td>20.0</td>\n      <td>64.0</td>\n      <td>63.0</td>\n      <td>...</td>\n      <td>0.0</td>\n      <td>0.0</td>\n      <td>0.0</td>\n      <td>0.0</td>\n      <td>0.0</td>\n      <td>0.0</td>\n      <td>0.0</td>\n      <td>0.0</td>\n      <td>0.0</td>\n      <td>0.0</td>\n    </tr>\n    <tr>\n      <th>1320</th>\n      <td>14.8</td>\n      <td>18.3</td>\n      <td>38.8</td>\n      <td>7.4</td>\n      <td>0.1</td>\n      <td>48.0</td>\n      <td>19.0</td>\n      <td>24.0</td>\n      <td>93.0</td>\n      <td>86.0</td>\n      <td>...</td>\n      <td>0.0</td>\n      <td>0.0</td>\n      <td>0.0</td>\n      <td>0.0</td>\n      <td>1.0</td>\n      <td>0.0</td>\n      <td>0.0</td>\n      <td>0.0</td>\n      <td>0.0</td>\n      <td>0.0</td>\n    </tr>\n    <tr>\n      <th>...</th>\n      <td>...</td>\n      <td>...</td>\n      <td>...</td>\n      <td>...</td>\n      <td>...</td>\n      <td>...</td>\n      <td>...</td>\n      <td>...</td>\n      <td>...</td>\n      <td>...</td>\n      <td>...</td>\n      <td>...</td>\n      <td>...</td>\n      <td>...</td>\n      <td>...</td>\n      <td>...</td>\n      <td>...</td>\n      <td>...</td>\n      <td>...</td>\n      <td>...</td>\n      <td>...</td>\n    </tr>\n    <tr>\n      <th>3195</th>\n      <td>11.7</td>\n      <td>17.9</td>\n      <td>8.8</td>\n      <td>7.8</td>\n      <td>6.1</td>\n      <td>54.0</td>\n      <td>26.0</td>\n      <td>26.0</td>\n      <td>51.0</td>\n      <td>56.0</td>\n      <td>...</td>\n      <td>0.0</td>\n      <td>0.0</td>\n      <td>0.0</td>\n      <td>0.0</td>\n      <td>0.0</td>\n      <td>0.0</td>\n      <td>0.0</td>\n      <td>1.0</td>\n      <td>0.0</td>\n      <td>0.0</td>\n    </tr>\n    <tr>\n      <th>1344</th>\n      <td>17.0</td>\n      <td>21.7</td>\n      <td>0.0</td>\n      <td>5.4</td>\n      <td>10.7</td>\n      <td>26.0</td>\n      <td>15.0</td>\n      <td>20.0</td>\n      <td>50.0</td>\n      <td>47.0</td>\n      <td>...</td>\n      <td>0.0</td>\n      <td>0.0</td>\n      <td>0.0</td>\n      <td>0.0</td>\n      <td>0.0</td>\n      <td>0.0</td>\n      <td>0.0</td>\n      <td>0.0</td>\n      <td>0.0</td>\n      <td>0.0</td>\n    </tr>\n    <tr>\n      <th>527</th>\n      <td>6.7</td>\n      <td>17.3</td>\n      <td>0.0</td>\n      <td>2.6</td>\n      <td>6.9</td>\n      <td>41.0</td>\n      <td>17.0</td>\n      <td>7.0</td>\n      <td>79.0</td>\n      <td>42.0</td>\n      <td>...</td>\n      <td>0.0</td>\n      <td>1.0</td>\n      <td>0.0</td>\n      <td>0.0</td>\n      <td>0.0</td>\n      <td>0.0</td>\n      <td>0.0</td>\n      <td>0.0</td>\n      <td>0.0</td>\n      <td>0.0</td>\n    </tr>\n    <tr>\n      <th>3197</th>\n      <td>15.0</td>\n      <td>22.7</td>\n      <td>9.4</td>\n      <td>4.2</td>\n      <td>2.8</td>\n      <td>43.0</td>\n      <td>19.0</td>\n      <td>17.0</td>\n      <td>71.0</td>\n      <td>75.0</td>\n      <td>...</td>\n      <td>0.0</td>\n      <td>0.0</td>\n      <td>0.0</td>\n      <td>0.0</td>\n      <td>0.0</td>\n      <td>1.0</td>\n      <td>0.0</td>\n      <td>0.0</td>\n      <td>0.0</td>\n      <td>0.0</td>\n    </tr>\n    <tr>\n      <th>1289</th>\n      <td>15.9</td>\n      <td>30.1</td>\n      <td>0.2</td>\n      <td>7.6</td>\n      <td>12.2</td>\n      <td>33.0</td>\n      <td>11.0</td>\n      <td>9.0</td>\n      <td>59.0</td>\n      <td>39.0</td>\n      <td>...</td>\n      <td>0.0</td>\n      <td>0.0</td>\n      <td>0.0</td>\n      <td>0.0</td>\n      <td>0.0</td>\n      <td>0.0</td>\n      <td>0.0</td>\n      <td>0.0</td>\n      <td>0.0</td>\n      <td>0.0</td>\n    </tr>\n  </tbody>\n</table>\n<p>2616 rows × 66 columns</p>\n</div>"
          },
          "metadata": {}
        }
      ]
    },
    {
      "cell_type": "code",
      "source": "x_test",
      "metadata": {
        "trusted": true
      },
      "execution_count": 28,
      "outputs": [
        {
          "execution_count": 28,
          "output_type": "execute_result",
          "data": {
            "text/plain": "      MinTemp  MaxTemp  Rainfall  Evaporation  Sunshine  WindGustSpeed  \\\n3066     18.7     35.7       0.2          6.0       9.8           57.0   \n2456     15.0     24.8      22.4          3.4       9.7           37.0   \n1629      8.5     16.0       3.4          2.0       4.3           74.0   \n838      11.7     19.9       1.6          1.4       4.6           41.0   \n2506      7.9     19.3       2.2          4.0      10.1           46.0   \n...       ...      ...       ...          ...       ...            ...   \n2632     12.2     19.9       0.0          4.2       8.2           43.0   \n1725     20.1     28.7       0.2          4.2      10.7           31.0   \n1158     11.6     15.7      18.2          4.8       0.3           57.0   \n1661     16.9     23.9       0.0          9.8       9.9           57.0   \n68       15.6     22.2      22.8          5.4       5.8           41.0   \n\n      WindSpeed9am  WindSpeed3pm  Humidity9am  Humidity3pm  ...  \\\n3066          13.0          17.0         44.0         24.0  ...   \n2456          19.0          20.0         72.0         53.0  ...   \n1629          35.0          22.0         84.0         87.0  ...   \n838           15.0           7.0         92.0         53.0  ...   \n2506          28.0          20.0         49.0         34.0  ...   \n...            ...           ...          ...          ...  ...   \n2632           9.0          28.0         53.0         57.0  ...   \n1725          11.0          20.0         70.0         65.0  ...   \n1158          28.0          35.0         89.0         67.0  ...   \n1661          19.0          28.0         60.0         51.0  ...   \n68            13.0          20.0         96.0         62.0  ...   \n\n      WindDir3pm_NNW  WindDir3pm_NW  WindDir3pm_S  WindDir3pm_SE  \\\n3066             0.0            0.0           0.0            0.0   \n2456             0.0            0.0           0.0            0.0   \n1629             0.0            0.0           0.0            0.0   \n838              0.0            0.0           0.0            0.0   \n2506             0.0            0.0           0.0            0.0   \n...              ...            ...           ...            ...   \n2632             0.0            0.0           0.0            1.0   \n1725             0.0            0.0           0.0            0.0   \n1158             0.0            0.0           0.0            0.0   \n1661             0.0            0.0           0.0            0.0   \n68               0.0            0.0           0.0            0.0   \n\n      WindDir3pm_SSE  WindDir3pm_SSW  WindDir3pm_SW  WindDir3pm_W  \\\n3066             0.0             0.0            0.0           0.0   \n2456             1.0             0.0            0.0           0.0   \n1629             0.0             1.0            0.0           0.0   \n838              0.0             0.0            0.0           0.0   \n2506             0.0             0.0            0.0           1.0   \n...              ...             ...            ...           ...   \n2632             0.0             0.0            0.0           0.0   \n1725             0.0             0.0            0.0           0.0   \n1158             1.0             0.0            0.0           0.0   \n1661             1.0             0.0            0.0           0.0   \n68               0.0             0.0            0.0           0.0   \n\n      WindDir3pm_WNW  WindDir3pm_WSW  \n3066             0.0             0.0  \n2456             0.0             0.0  \n1629             0.0             0.0  \n838              0.0             0.0  \n2506             0.0             0.0  \n...              ...             ...  \n2632             0.0             0.0  \n1725             0.0             0.0  \n1158             0.0             0.0  \n1661             0.0             0.0  \n68               0.0             0.0  \n\n[655 rows x 66 columns]",
            "text/html": "<div>\n<style scoped>\n    .dataframe tbody tr th:only-of-type {\n        vertical-align: middle;\n    }\n\n    .dataframe tbody tr th {\n        vertical-align: top;\n    }\n\n    .dataframe thead th {\n        text-align: right;\n    }\n</style>\n<table border=\"1\" class=\"dataframe\">\n  <thead>\n    <tr style=\"text-align: right;\">\n      <th></th>\n      <th>MinTemp</th>\n      <th>MaxTemp</th>\n      <th>Rainfall</th>\n      <th>Evaporation</th>\n      <th>Sunshine</th>\n      <th>WindGustSpeed</th>\n      <th>WindSpeed9am</th>\n      <th>WindSpeed3pm</th>\n      <th>Humidity9am</th>\n      <th>Humidity3pm</th>\n      <th>...</th>\n      <th>WindDir3pm_NNW</th>\n      <th>WindDir3pm_NW</th>\n      <th>WindDir3pm_S</th>\n      <th>WindDir3pm_SE</th>\n      <th>WindDir3pm_SSE</th>\n      <th>WindDir3pm_SSW</th>\n      <th>WindDir3pm_SW</th>\n      <th>WindDir3pm_W</th>\n      <th>WindDir3pm_WNW</th>\n      <th>WindDir3pm_WSW</th>\n    </tr>\n  </thead>\n  <tbody>\n    <tr>\n      <th>3066</th>\n      <td>18.7</td>\n      <td>35.7</td>\n      <td>0.2</td>\n      <td>6.0</td>\n      <td>9.8</td>\n      <td>57.0</td>\n      <td>13.0</td>\n      <td>17.0</td>\n      <td>44.0</td>\n      <td>24.0</td>\n      <td>...</td>\n      <td>0.0</td>\n      <td>0.0</td>\n      <td>0.0</td>\n      <td>0.0</td>\n      <td>0.0</td>\n      <td>0.0</td>\n      <td>0.0</td>\n      <td>0.0</td>\n      <td>0.0</td>\n      <td>0.0</td>\n    </tr>\n    <tr>\n      <th>2456</th>\n      <td>15.0</td>\n      <td>24.8</td>\n      <td>22.4</td>\n      <td>3.4</td>\n      <td>9.7</td>\n      <td>37.0</td>\n      <td>19.0</td>\n      <td>20.0</td>\n      <td>72.0</td>\n      <td>53.0</td>\n      <td>...</td>\n      <td>0.0</td>\n      <td>0.0</td>\n      <td>0.0</td>\n      <td>0.0</td>\n      <td>1.0</td>\n      <td>0.0</td>\n      <td>0.0</td>\n      <td>0.0</td>\n      <td>0.0</td>\n      <td>0.0</td>\n    </tr>\n    <tr>\n      <th>1629</th>\n      <td>8.5</td>\n      <td>16.0</td>\n      <td>3.4</td>\n      <td>2.0</td>\n      <td>4.3</td>\n      <td>74.0</td>\n      <td>35.0</td>\n      <td>22.0</td>\n      <td>84.0</td>\n      <td>87.0</td>\n      <td>...</td>\n      <td>0.0</td>\n      <td>0.0</td>\n      <td>0.0</td>\n      <td>0.0</td>\n      <td>0.0</td>\n      <td>1.0</td>\n      <td>0.0</td>\n      <td>0.0</td>\n      <td>0.0</td>\n      <td>0.0</td>\n    </tr>\n    <tr>\n      <th>838</th>\n      <td>11.7</td>\n      <td>19.9</td>\n      <td>1.6</td>\n      <td>1.4</td>\n      <td>4.6</td>\n      <td>41.0</td>\n      <td>15.0</td>\n      <td>7.0</td>\n      <td>92.0</td>\n      <td>53.0</td>\n      <td>...</td>\n      <td>0.0</td>\n      <td>0.0</td>\n      <td>0.0</td>\n      <td>0.0</td>\n      <td>0.0</td>\n      <td>0.0</td>\n      <td>0.0</td>\n      <td>0.0</td>\n      <td>0.0</td>\n      <td>0.0</td>\n    </tr>\n    <tr>\n      <th>2506</th>\n      <td>7.9</td>\n      <td>19.3</td>\n      <td>2.2</td>\n      <td>4.0</td>\n      <td>10.1</td>\n      <td>46.0</td>\n      <td>28.0</td>\n      <td>20.0</td>\n      <td>49.0</td>\n      <td>34.0</td>\n      <td>...</td>\n      <td>0.0</td>\n      <td>0.0</td>\n      <td>0.0</td>\n      <td>0.0</td>\n      <td>0.0</td>\n      <td>0.0</td>\n      <td>0.0</td>\n      <td>1.0</td>\n      <td>0.0</td>\n      <td>0.0</td>\n    </tr>\n    <tr>\n      <th>...</th>\n      <td>...</td>\n      <td>...</td>\n      <td>...</td>\n      <td>...</td>\n      <td>...</td>\n      <td>...</td>\n      <td>...</td>\n      <td>...</td>\n      <td>...</td>\n      <td>...</td>\n      <td>...</td>\n      <td>...</td>\n      <td>...</td>\n      <td>...</td>\n      <td>...</td>\n      <td>...</td>\n      <td>...</td>\n      <td>...</td>\n      <td>...</td>\n      <td>...</td>\n      <td>...</td>\n    </tr>\n    <tr>\n      <th>2632</th>\n      <td>12.2</td>\n      <td>19.9</td>\n      <td>0.0</td>\n      <td>4.2</td>\n      <td>8.2</td>\n      <td>43.0</td>\n      <td>9.0</td>\n      <td>28.0</td>\n      <td>53.0</td>\n      <td>57.0</td>\n      <td>...</td>\n      <td>0.0</td>\n      <td>0.0</td>\n      <td>0.0</td>\n      <td>1.0</td>\n      <td>0.0</td>\n      <td>0.0</td>\n      <td>0.0</td>\n      <td>0.0</td>\n      <td>0.0</td>\n      <td>0.0</td>\n    </tr>\n    <tr>\n      <th>1725</th>\n      <td>20.1</td>\n      <td>28.7</td>\n      <td>0.2</td>\n      <td>4.2</td>\n      <td>10.7</td>\n      <td>31.0</td>\n      <td>11.0</td>\n      <td>20.0</td>\n      <td>70.0</td>\n      <td>65.0</td>\n      <td>...</td>\n      <td>0.0</td>\n      <td>0.0</td>\n      <td>0.0</td>\n      <td>0.0</td>\n      <td>0.0</td>\n      <td>0.0</td>\n      <td>0.0</td>\n      <td>0.0</td>\n      <td>0.0</td>\n      <td>0.0</td>\n    </tr>\n    <tr>\n      <th>1158</th>\n      <td>11.6</td>\n      <td>15.7</td>\n      <td>18.2</td>\n      <td>4.8</td>\n      <td>0.3</td>\n      <td>57.0</td>\n      <td>28.0</td>\n      <td>35.0</td>\n      <td>89.0</td>\n      <td>67.0</td>\n      <td>...</td>\n      <td>0.0</td>\n      <td>0.0</td>\n      <td>0.0</td>\n      <td>0.0</td>\n      <td>1.0</td>\n      <td>0.0</td>\n      <td>0.0</td>\n      <td>0.0</td>\n      <td>0.0</td>\n      <td>0.0</td>\n    </tr>\n    <tr>\n      <th>1661</th>\n      <td>16.9</td>\n      <td>23.9</td>\n      <td>0.0</td>\n      <td>9.8</td>\n      <td>9.9</td>\n      <td>57.0</td>\n      <td>19.0</td>\n      <td>28.0</td>\n      <td>60.0</td>\n      <td>51.0</td>\n      <td>...</td>\n      <td>0.0</td>\n      <td>0.0</td>\n      <td>0.0</td>\n      <td>0.0</td>\n      <td>1.0</td>\n      <td>0.0</td>\n      <td>0.0</td>\n      <td>0.0</td>\n      <td>0.0</td>\n      <td>0.0</td>\n    </tr>\n    <tr>\n      <th>68</th>\n      <td>15.6</td>\n      <td>22.2</td>\n      <td>22.8</td>\n      <td>5.4</td>\n      <td>5.8</td>\n      <td>41.0</td>\n      <td>13.0</td>\n      <td>20.0</td>\n      <td>96.0</td>\n      <td>62.0</td>\n      <td>...</td>\n      <td>0.0</td>\n      <td>0.0</td>\n      <td>0.0</td>\n      <td>0.0</td>\n      <td>0.0</td>\n      <td>0.0</td>\n      <td>0.0</td>\n      <td>0.0</td>\n      <td>0.0</td>\n      <td>0.0</td>\n    </tr>\n  </tbody>\n</table>\n<p>655 rows × 66 columns</p>\n</div>"
          },
          "metadata": {}
        }
      ]
    },
    {
      "cell_type": "code",
      "source": "y_train",
      "metadata": {
        "trusted": true
      },
      "execution_count": 30,
      "outputs": [
        {
          "execution_count": 30,
          "output_type": "execute_result",
          "data": {
            "text/plain": "3188    1.0\n2582    0.0\n815     1.0\n1024    0.0\n1320    1.0\n       ... \n3195    0.0\n1344    0.0\n527     0.0\n3197    1.0\n1289    0.0\nName: RainTomorrow, Length: 2616, dtype: float64"
          },
          "metadata": {}
        }
      ]
    },
    {
      "cell_type": "code",
      "source": "y_test",
      "metadata": {
        "trusted": true
      },
      "execution_count": 31,
      "outputs": [
        {
          "execution_count": 31,
          "output_type": "execute_result",
          "data": {
            "text/plain": "3066    0.0\n2456    0.0\n1629    1.0\n838     1.0\n2506    0.0\n       ... \n2632    1.0\n1725    0.0\n1158    1.0\n1661    0.0\n68      1.0\nName: RainTomorrow, Length: 655, dtype: float64"
          },
          "metadata": {}
        }
      ]
    },
    {
      "cell_type": "code",
      "source": "# x_train, x_test, y_train, y_test = ",
      "metadata": {
        "trusted": true
      },
      "execution_count": 32,
      "outputs": []
    },
    {
      "cell_type": "markdown",
      "source": "#### Q2) Create and train a Linear Regression model called LinearReg using the training data (`x_train`, `y_train`).\n",
      "metadata": {}
    },
    {
      "cell_type": "code",
      "source": "#Enter Your Code, Execute and take the Screenshot\n\n# Create a Linear Regression model\nLinearReg = LinearRegression()\n\n# Train the model using the training data\nLinearReg.fit(x_train, y_train)\n",
      "metadata": {
        "trusted": true
      },
      "execution_count": 33,
      "outputs": [
        {
          "execution_count": 33,
          "output_type": "execute_result",
          "data": {
            "text/plain": "LinearRegression()",
            "text/html": "<style>#sk-container-id-1 {color: black;background-color: white;}#sk-container-id-1 pre{padding: 0;}#sk-container-id-1 div.sk-toggleable {background-color: white;}#sk-container-id-1 label.sk-toggleable__label {cursor: pointer;display: block;width: 100%;margin-bottom: 0;padding: 0.3em;box-sizing: border-box;text-align: center;}#sk-container-id-1 label.sk-toggleable__label-arrow:before {content: \"▸\";float: left;margin-right: 0.25em;color: #696969;}#sk-container-id-1 label.sk-toggleable__label-arrow:hover:before {color: black;}#sk-container-id-1 div.sk-estimator:hover label.sk-toggleable__label-arrow:before {color: black;}#sk-container-id-1 div.sk-toggleable__content {max-height: 0;max-width: 0;overflow: hidden;text-align: left;background-color: #f0f8ff;}#sk-container-id-1 div.sk-toggleable__content pre {margin: 0.2em;color: black;border-radius: 0.25em;background-color: #f0f8ff;}#sk-container-id-1 input.sk-toggleable__control:checked~div.sk-toggleable__content {max-height: 200px;max-width: 100%;overflow: auto;}#sk-container-id-1 input.sk-toggleable__control:checked~label.sk-toggleable__label-arrow:before {content: \"▾\";}#sk-container-id-1 div.sk-estimator input.sk-toggleable__control:checked~label.sk-toggleable__label {background-color: #d4ebff;}#sk-container-id-1 div.sk-label input.sk-toggleable__control:checked~label.sk-toggleable__label {background-color: #d4ebff;}#sk-container-id-1 input.sk-hidden--visually {border: 0;clip: rect(1px 1px 1px 1px);clip: rect(1px, 1px, 1px, 1px);height: 1px;margin: -1px;overflow: hidden;padding: 0;position: absolute;width: 1px;}#sk-container-id-1 div.sk-estimator {font-family: monospace;background-color: #f0f8ff;border: 1px dotted black;border-radius: 0.25em;box-sizing: border-box;margin-bottom: 0.5em;}#sk-container-id-1 div.sk-estimator:hover {background-color: #d4ebff;}#sk-container-id-1 div.sk-parallel-item::after {content: \"\";width: 100%;border-bottom: 1px solid gray;flex-grow: 1;}#sk-container-id-1 div.sk-label:hover label.sk-toggleable__label {background-color: #d4ebff;}#sk-container-id-1 div.sk-serial::before {content: \"\";position: absolute;border-left: 1px solid gray;box-sizing: border-box;top: 0;bottom: 0;left: 50%;z-index: 0;}#sk-container-id-1 div.sk-serial {display: flex;flex-direction: column;align-items: center;background-color: white;padding-right: 0.2em;padding-left: 0.2em;position: relative;}#sk-container-id-1 div.sk-item {position: relative;z-index: 1;}#sk-container-id-1 div.sk-parallel {display: flex;align-items: stretch;justify-content: center;background-color: white;position: relative;}#sk-container-id-1 div.sk-item::before, #sk-container-id-1 div.sk-parallel-item::before {content: \"\";position: absolute;border-left: 1px solid gray;box-sizing: border-box;top: 0;bottom: 0;left: 50%;z-index: -1;}#sk-container-id-1 div.sk-parallel-item {display: flex;flex-direction: column;z-index: 1;position: relative;background-color: white;}#sk-container-id-1 div.sk-parallel-item:first-child::after {align-self: flex-end;width: 50%;}#sk-container-id-1 div.sk-parallel-item:last-child::after {align-self: flex-start;width: 50%;}#sk-container-id-1 div.sk-parallel-item:only-child::after {width: 0;}#sk-container-id-1 div.sk-dashed-wrapped {border: 1px dashed gray;margin: 0 0.4em 0.5em 0.4em;box-sizing: border-box;padding-bottom: 0.4em;background-color: white;}#sk-container-id-1 div.sk-label label {font-family: monospace;font-weight: bold;display: inline-block;line-height: 1.2em;}#sk-container-id-1 div.sk-label-container {text-align: center;}#sk-container-id-1 div.sk-container {/* jupyter's `normalize.less` sets `[hidden] { display: none; }` but bootstrap.min.css set `[hidden] { display: none !important; }` so we also need the `!important` here to be able to override the default hidden behavior on the sphinx rendered scikit-learn.org. See: https://github.com/scikit-learn/scikit-learn/issues/21755 */display: inline-block !important;position: relative;}#sk-container-id-1 div.sk-text-repr-fallback {display: none;}</style><div id=\"sk-container-id-1\" class=\"sk-top-container\"><div class=\"sk-text-repr-fallback\"><pre>LinearRegression()</pre><b>In a Jupyter environment, please rerun this cell to show the HTML representation or trust the notebook. <br />On GitHub, the HTML representation is unable to render, please try loading this page with nbviewer.org.</b></div><div class=\"sk-container\" hidden><div class=\"sk-item\"><div class=\"sk-estimator sk-toggleable\"><input class=\"sk-toggleable__control sk-hidden--visually\" id=\"sk-estimator-id-1\" type=\"checkbox\" checked><label for=\"sk-estimator-id-1\" class=\"sk-toggleable__label sk-toggleable__label-arrow\">LinearRegression</label><div class=\"sk-toggleable__content\"><pre>LinearRegression()</pre></div></div></div></div></div>"
          },
          "metadata": {}
        }
      ]
    },
    {
      "cell_type": "code",
      "source": "# LinearReg = ",
      "metadata": {
        "trusted": true
      },
      "execution_count": 34,
      "outputs": []
    },
    {
      "cell_type": "markdown",
      "source": "#### Q3) Now use the `predict` method on the testing data (`x_test`) and save it to the array `predictions`.\n",
      "metadata": {}
    },
    {
      "cell_type": "code",
      "source": "#Enter Your Code, Execute and take the Screenshot",
      "metadata": {},
      "execution_count": null,
      "outputs": []
    },
    {
      "cell_type": "code",
      "source": "# Use the trained model to make predictions on the testing data\npredictions = LinearReg.predict(x_test)\npredictions",
      "metadata": {
        "trusted": true
      },
      "execution_count": 36,
      "outputs": [
        {
          "execution_count": 36,
          "output_type": "execute_result",
          "data": {
            "text/plain": "array([ 1.31805420e-01,  2.76237488e-01,  9.78260040e-01,  2.87498474e-01,\n        1.32507324e-01,  4.60491180e-01,  3.56735229e-01,  8.56414795e-01,\n        6.75083160e-01,  3.82156372e-02,  4.78363037e-03,  2.81200409e-01,\n        3.39115143e-01,  7.81135559e-02,  6.26144409e-02,  5.64476013e-01,\n       -6.15844727e-02,  5.24177551e-01,  1.53690338e-01,  3.59714508e-01,\n        6.05316162e-02,  9.03514862e-01,  4.67285156e-01,  2.03426361e-01,\n       -7.09953308e-02,  3.83941650e-01,  5.36136627e-01, -2.29110718e-02,\n        6.40098572e-01, -9.56573486e-02,  3.78089905e-01,  1.20223999e-01,\n       -1.81159973e-02,  5.53703308e-02,  5.63621521e-01,  1.06297684e+00,\n       -6.73675537e-03,  5.14389038e-01, -8.84094238e-02,  6.92024231e-02,\n        2.44522095e-02,  8.71730804e-01,  2.44739532e-01,  3.94687653e-01,\n        2.67627716e-01,  4.46796417e-01, -4.75616455e-02,  1.89437866e-01,\n        7.76679993e-01,  1.57737732e-01,  3.98635864e-03, -5.19676208e-02,\n        2.07328796e-01, -2.07939148e-01, -7.61032104e-02,  2.49664307e-01,\n        2.79296875e-01,  6.02787018e-01,  6.29638672e-01,  4.90711212e-01,\n        5.64231873e-02,  1.05522156e-01,  6.70032501e-01,  7.64904022e-01,\n        9.84954834e-02, -6.33201599e-02,  4.13871765e-01,  7.25288391e-02,\n        2.49935150e-01,  2.56435394e-01,  3.77693176e-02, -6.88629150e-02,\n        3.48293304e-01,  1.73034668e-01,  4.15435791e-01, -7.25250244e-02,\n        3.41098785e-01,  1.86962128e-01, -1.54830933e-01,  7.99789429e-01,\n        2.32398987e-01,  2.37392426e-01,  2.56221771e-01,  1.03466034e-01,\n        6.20811462e-01,  1.29714966e-01,  3.71398926e-01,  4.82997894e-01,\n        3.08238983e-01,  1.19400024e-01,  5.48439026e-02,  1.12842560e-01,\n       -1.62471771e-01, -1.58046722e-01,  7.29331970e-02,  7.76401520e-01,\n        8.43200684e-02,  6.43142700e-01,  1.21788025e-01,  1.78066254e-01,\n        3.04996490e-01,  1.85523987e-01,  1.13139725e+00,  3.44512939e-01,\n        8.26862335e-01,  5.38974762e-01,  2.74330139e-01,  6.29470825e-01,\n       -6.72531128e-02,  9.63497162e-01,  5.61866760e-01,  2.34642029e-02,\n        1.05628967e-01,  9.38644409e-02,  8.15620422e-02,  2.92194366e-01,\n        5.55053711e-01,  6.69136047e-02,  4.25567627e-02,  9.11712646e-04,\n        1.37718201e-01, -2.17979431e-01,  7.01103210e-02,  1.19834900e-01,\n        1.92714691e-01, -3.82690430e-02,  1.56036377e-01,  7.12619781e-01,\n        2.62344360e-01,  5.34854889e-01,  3.97823334e-01, -4.64591980e-02,\n        2.44079590e-01,  2.06321716e-01,  2.80452728e-01, -1.28234863e-01,\n        1.19514465e-01,  3.83327484e-01,  1.84486389e-01,  7.28565216e-01,\n        3.31840515e-01, -1.03252411e-01,  2.39509583e-01,  3.06003571e-01,\n        6.63166046e-01,  2.21214294e-02,  1.60022736e-01,  5.21656036e-01,\n       -4.34646606e-02,  7.98393250e-01,  2.21843719e-01,  3.89865875e-01,\n       -5.63278198e-02,  4.02412415e-01,  2.34233856e-01,  1.20391846e-01,\n        3.05500031e-01,  7.86254883e-01,  3.32336426e-02,  1.22545242e+00,\n        8.94748688e-01,  8.18290710e-02, -1.51977539e-02,  1.71012878e-01,\n       -6.85386658e-02, -1.07837677e-01, -5.02128601e-02,  2.98679352e-01,\n        3.57070923e-01,  9.57832336e-02,  8.85368347e-01, -3.33404541e-02,\n        5.99250793e-01,  8.96682739e-02,  9.84039307e-02,  3.54087830e-01,\n        2.35946655e-01, -6.72683716e-02,  1.44302368e-01,  4.17938232e-01,\n        5.87409973e-01,  2.16766357e-01, -3.32984924e-02,  1.00632095e+00,\n        4.25949097e-02, -1.73721313e-02,  2.48321533e-01, -5.93261719e-02,\n        2.22229004e-01, -7.19566345e-02,  8.47244263e-02,  7.15560913e-02,\n        3.49464417e-02,  4.43538666e-01,  1.86832428e-01,  1.83151245e-01,\n        7.56645203e-02,  1.36604309e-02,  1.84684753e-01,  2.32395172e-01,\n        5.30677795e-01,  1.60377502e-01,  3.95355225e-01, -4.48989868e-02,\n        8.39321136e-01,  1.66053772e-02, -1.69792175e-02, -2.13699341e-02,\n        1.46427155e-01,  1.38156891e-01, -3.34930420e-02,  4.14844513e-01,\n        6.57314301e-01, -5.00488281e-03,  2.85873413e-02,  4.61616516e-02,\n       -7.21855164e-02,  2.73803711e-01,  5.28594971e-01, -5.90438843e-02,\n        8.43173981e-01,  3.25862885e-01,  3.18824768e-01,  3.64036560e-02,\n       -8.51974487e-02,  2.83367157e-01,  3.01342010e-01,  1.37790680e-01,\n        3.35834503e-01,  4.12467957e-01,  3.75205994e-01,  1.24046326e-01,\n        2.87857056e-01,  9.06200409e-01,  4.45533752e-01,  2.74761200e-01,\n       -6.55364990e-03,  6.91844940e-01,  6.71939850e-01,  1.15501404e-01,\n        7.74608612e-01,  9.94407654e-01,  5.87665558e-01,  3.14266205e-01,\n        2.26409912e-01, -4.47616577e-02,  2.25982666e-01,  2.30636597e-01,\n        3.55014801e-01, -1.26560211e-01,  3.53050232e-02,  1.82296753e-01,\n        2.15332031e-01,  1.76151276e-01, -2.96478271e-02,  1.00053024e+00,\n        1.88282013e-01,  7.52166748e-01,  6.19865417e-01,  7.17868805e-01,\n        3.15612793e-01,  2.23350525e-02,  3.26438904e-01, -6.90078735e-03,\n        2.81578064e-01, -2.27661133e-02,  7.99331665e-02, -2.31933594e-03,\n        3.57097626e-01,  1.36497498e-01,  2.65789032e-01,  1.39770508e-02,\n        2.21069336e-01,  7.07366943e-01,  1.59549713e-01,  2.04524994e-01,\n        5.38246155e-01, -1.52576447e-01,  2.54871368e-01,  2.76481628e-01,\n        2.63996124e-01,  6.68983459e-02,  9.74411011e-01,  2.00035095e-01,\n        7.55741119e-01, -3.49922180e-02,  4.87739563e-01,  5.88989258e-03,\n       -7.24487305e-02,  3.05580139e-01, -2.05074310e-01,  1.90959930e-01,\n       -2.46238708e-02, -7.71484375e-02,  2.78968811e-01,  7.84187317e-02,\n        2.33947754e-01,  4.44850922e-01,  6.62345886e-02, -3.31268311e-02,\n        5.83183289e-01,  5.77468872e-02,  3.20480347e-01,  7.24246979e-01,\n        1.35425568e-01, -2.21138000e-02,  7.33058929e-01, -3.08292389e-01,\n        1.09135818e+00,  2.85942078e-01,  8.85074615e-01,  6.96598053e-01,\n        5.85269928e-01, -2.22969055e-02,  9.52136993e-01,  7.14950562e-01,\n        4.48520660e-01,  5.80486298e-01,  1.87110901e-01,  2.29640961e-01,\n       -5.77812195e-02,  3.15258026e-01,  8.74675751e-01, -1.67541504e-02,\n        2.52506256e-01, -3.34930420e-02, -4.39720154e-02,  4.13513184e-02,\n        2.35958099e-01,  2.03025818e-01,  8.81965637e-01,  5.87280273e-01,\n        1.20044708e-01, -2.02217102e-02, -1.93138123e-02,  1.03530884e-01,\n        8.33129883e-03,  2.29125977e-01, -1.69448853e-02,  7.15026855e-02,\n        1.62666321e-01,  1.70112610e-01,  2.46578217e-01,  1.47735596e-01,\n        3.91811371e-01, -6.65817261e-02,  1.15653992e-01,  1.84452057e-01,\n        9.06867981e-02, -1.79901123e-02,  2.09281921e-01, -1.30348206e-02,\n        5.46470642e-01,  4.15870667e-01,  1.78188324e-01,  1.72271729e-02,\n        4.93881226e-01,  1.47155762e-01,  5.24749756e-01,  5.98033905e-01,\n        3.08254242e-01,  3.09268951e-01,  4.46487427e-01,  1.68167114e-01,\n        2.60776520e-01,  7.56248474e-01,  4.06166077e-01,  4.90692139e-01,\n        5.14251709e-01, -1.30279541e-01,  7.90328979e-02,  3.50540161e-01,\n        1.00466919e+00,  2.73349762e-01,  6.35398865e-01,  5.78609467e-01,\n        4.68284607e-01,  3.74221802e-03,  3.59008789e-01,  6.74781799e-02,\n       -4.23622131e-02,  7.03350067e-01,  1.27120972e-01,  8.00086975e-01,\n        4.70825195e-01, -1.74293518e-02,  2.93655396e-02,  5.55225372e-01,\n        5.01289368e-02,  1.15310669e-01, -9.72747803e-03,  1.47521973e-01,\n        4.71206665e-01, -9.27085876e-02,  8.09020996e-02,  3.10173035e-02,\n        3.94783020e-01,  2.23731995e-01,  1.00332642e+00,  7.08122253e-01,\n        3.55991364e-01,  2.63015747e-01, -2.83584595e-02, -9.66262817e-03,\n        3.08990479e-02,  1.41769409e-01,  7.82546997e-02,  5.12680054e-01,\n        2.04792023e-01,  3.11748505e-01,  5.28457642e-01,  4.61933136e-01,\n        5.35430908e-02,  8.17276001e-01,  5.33882141e-01, -1.38202667e-01,\n        5.09506226e-01,  1.94084167e-01,  4.56134796e-01,  1.85203552e-01,\n        2.22095490e-01,  1.15657806e-01,  6.32820129e-02,  7.37152100e-02,\n        1.02481842e-01,  5.51410675e-01,  7.03029633e-01,  5.22144318e-01,\n        5.35140991e-01,  3.19824219e-02,  1.11064911e-01, -1.18610382e-01,\n        5.31845093e-01, -1.74411774e-01,  4.54452515e-01,  9.74384308e-01,\n        4.18205261e-01, -1.16016388e-01,  8.70727539e-01,  1.62200928e-01,\n        6.13147736e-01,  3.17241669e-01, -7.86437988e-02,  4.93953705e-01,\n        7.44869232e-01,  6.04896545e-02,  6.03904724e-02,  2.36877441e-01,\n        5.79231262e-01,  1.10710144e-01,  3.81809235e-01,  6.02245331e-01,\n        5.84831238e-02,  2.21874237e-01,  3.89110565e-01,  6.63791656e-01,\n        1.56127930e-01,  3.97319794e-01,  5.80158234e-01,  5.03841400e-01,\n        1.06437683e-01,  1.49784088e-01,  2.33306885e-01, -3.35311890e-03,\n       -2.86216736e-02,  2.65899658e-01,  2.60639191e-01, -6.16149902e-02,\n        1.46274567e-01,  8.24806213e-01,  5.68473816e-01, -9.56077576e-02,\n       -1.02416992e-01,  8.49685669e-02,  1.61651611e-01, -7.92617798e-02,\n        9.43901062e-01,  7.94181824e-02,  3.38443756e-01,  1.58008575e-01,\n       -6.93855286e-02,  2.15141296e-01,  4.78935242e-01,  2.15911865e-02,\n        5.34439087e-01,  1.42604828e-01, -1.58443451e-01,  9.98306274e-03,\n        2.26787567e-01,  3.34785461e-01,  6.04476929e-02, -2.08969116e-02,\n       -1.07864380e-01,  3.34346771e-01,  5.10166168e-01,  3.45989227e-01,\n       -8.66737366e-02, -4.99382019e-02,  5.05310059e-01,  8.22296143e-02,\n        6.74781799e-02,  3.23127747e-01,  3.38222504e-01,  5.37277222e-01,\n        2.91851044e-01,  3.30558777e-01, -4.10842896e-02,  8.27472687e-01,\n        6.03469849e-01,  2.36690521e-01,  7.02400208e-01,  4.44671631e-01,\n        5.81176758e-01,  1.90063477e-01,  5.44776917e-02,  9.38415527e-02,\n       -6.77146912e-02,  1.05998993e-01, -2.49328613e-02, -2.94265747e-02,\n        6.56166077e-02,  9.60693359e-02,  1.03294373e-01,  1.77726746e-01,\n        1.02096558e-01,  6.64226532e-01,  1.97719574e-01,  1.04694366e-01,\n        1.13426208e-01, -3.24401855e-02,  1.46568298e-01,  4.64950562e-01,\n        7.55569458e-01,  2.03933716e-01,  4.90165710e-01, -1.01329803e-01,\n        6.61689758e-01,  7.53528595e-01,  9.01111603e-01,  7.73017883e-01,\n        2.73506165e-01,  2.98076630e-01,  1.87149048e-01,  7.19940186e-01,\n        2.29789734e-01,  3.34697723e-01,  8.51551056e-01,  3.06587219e-02,\n       -3.69644165e-03, -7.81784058e-02,  7.49885559e-01,  2.04681396e-01,\n        4.06051636e-01,  3.32252502e-01,  1.82044983e-01,  8.23406219e-01,\n        5.03276825e-01,  6.34056091e-01, -5.08499146e-02,  4.26254272e-02,\n        1.11125946e-01,  1.89224243e-01,  6.01032257e-01,  4.09084320e-01,\n        6.87740326e-01,  2.89924622e-01, -9.20143127e-02,  4.46701050e-02,\n        1.98989868e-01,  6.18919373e-01,  1.41929626e-01,  6.98940277e-01,\n        3.11843872e-01,  1.26808167e-01,  8.11508179e-01,  6.24809265e-02,\n       -1.04461670e-01,  6.59599304e-02,  1.23672485e-01,  5.18688202e-01,\n       -5.96542358e-02,  6.39770508e-01, -1.29547119e-02,  3.84521484e-02,\n       -1.04869843e-01,  1.96483612e-01,  3.36135864e-01,  4.88002777e-01,\n        1.93790436e-01,  7.93289185e-01,  1.69429779e-01,  8.56323242e-02,\n        1.68640137e-01,  1.73233032e-01,  3.24287415e-02,  4.69253540e-01,\n        2.03086853e-01,  8.46744537e-01,  4.20871735e-01,  2.17918396e-01,\n        1.81140900e-01,  1.54884338e-01,  7.26387024e-01,  4.45289612e-01,\n        4.87518311e-01,  1.01676941e-01,  4.13116455e-01, -1.13174438e-01,\n        1.79359436e-01, -9.75418091e-03,  1.39041901e-01,  1.11999512e-01,\n        6.09588623e-01,  2.16484070e-02,  1.88278198e-01, -1.35349274e-01,\n        7.06462860e-01,  4.33128357e-01, -5.83457947e-02,  9.28737640e-01,\n        5.40687561e-01, -1.64031982e-03,  9.19029236e-01, -2.19268799e-02,\n        1.65508270e-01,  1.77875519e-01,  4.72927094e-01, -2.81524658e-03,\n        4.00413513e-01,  1.41868591e-02,  1.95358276e-01, -6.80503845e-02,\n        5.87287903e-01,  1.92417145e-01,  2.33425140e-01,  2.73635864e-01,\n        9.40689087e-01,  7.10163116e-01,  1.33369446e-01,  7.37686157e-02,\n        5.58624268e-02, -2.26379395e-01,  4.11300659e-02,  5.17234802e-02,\n        3.10325623e-02,  2.93575287e-01,  9.69402313e-01,  7.98648834e-01,\n       -2.30140686e-02,  5.26771545e-02,  2.64831543e-01,  1.75128937e-01,\n        7.06302643e-01,  1.73835754e-01,  3.44318390e-01])"
          },
          "metadata": {}
        }
      ]
    },
    {
      "cell_type": "markdown",
      "source": "#### Q4) Using the `predictions` and the `y_test` dataframe calculate the value for each metric using the appropriate function.\n",
      "metadata": {}
    },
    {
      "cell_type": "code",
      "source": "#Enter Your Code, Execute and take the Screenshot\n\nfrom sklearn.metrics import mean_absolute_error\nfrom sklearn.metrics import mean_squared_error\n",
      "metadata": {
        "trusted": true
      },
      "execution_count": 40,
      "outputs": []
    },
    {
      "cell_type": "code",
      "source": "LinearRegression_MAE = mean_absolute_error(y_test, predictions)\nLinearRegression_MSE = mean_squared_error(y_test, predictions)\nLinearRegression_R2 =  np.sqrt(LinearRegression_MSE)\n\nLinearRegression_MAE,LinearRegression_MSE,LinearRegression_R2",
      "metadata": {
        "trusted": true
      },
      "execution_count": 45,
      "outputs": [
        {
          "execution_count": 45,
          "output_type": "execute_result",
          "data": {
            "text/plain": "(0.2563193284828244, 0.1157212427649327, 0.34017825145786834)"
          },
          "metadata": {}
        }
      ]
    },
    {
      "cell_type": "code",
      "source": "from sklearn.metrics import r2_score\n\nr2 = r2_score(y_test, predictions)\nr2",
      "metadata": {
        "trusted": true
      },
      "execution_count": 47,
      "outputs": [
        {
          "execution_count": 47,
          "output_type": "execute_result",
          "data": {
            "text/plain": "0.4271288403809509"
          },
          "metadata": {}
        }
      ]
    },
    {
      "cell_type": "markdown",
      "source": "#### Q5) Show the MAE, MSE, and R2 in a tabular format using data frame for the linear model.\n",
      "metadata": {}
    },
    {
      "cell_type": "code",
      "source": "#Enter Your Code, Execute and take the Screenshot",
      "metadata": {
        "trusted": true
      },
      "execution_count": 52,
      "outputs": []
    },
    {
      "cell_type": "code",
      "source": "Report =  pd.DataFrame({'Metric': ['LinearRegression_MAE', 'LinearRegression_MSE', 'LinearRegression_R2'],\n                           'Value': [LinearRegression_MAE, LinearRegression_MSE, LinearRegression_R2]})\nReport",
      "metadata": {
        "trusted": true
      },
      "execution_count": 51,
      "outputs": [
        {
          "execution_count": 51,
          "output_type": "execute_result",
          "data": {
            "text/plain": "                 Metric     Value\n0  LinearRegression_MAE  0.256319\n1  LinearRegression_MSE  0.115721\n2   LinearRegression_R2  0.340178",
            "text/html": "<div>\n<style scoped>\n    .dataframe tbody tr th:only-of-type {\n        vertical-align: middle;\n    }\n\n    .dataframe tbody tr th {\n        vertical-align: top;\n    }\n\n    .dataframe thead th {\n        text-align: right;\n    }\n</style>\n<table border=\"1\" class=\"dataframe\">\n  <thead>\n    <tr style=\"text-align: right;\">\n      <th></th>\n      <th>Metric</th>\n      <th>Value</th>\n    </tr>\n  </thead>\n  <tbody>\n    <tr>\n      <th>0</th>\n      <td>LinearRegression_MAE</td>\n      <td>0.256319</td>\n    </tr>\n    <tr>\n      <th>1</th>\n      <td>LinearRegression_MSE</td>\n      <td>0.115721</td>\n    </tr>\n    <tr>\n      <th>2</th>\n      <td>LinearRegression_R2</td>\n      <td>0.340178</td>\n    </tr>\n  </tbody>\n</table>\n</div>"
          },
          "metadata": {}
        }
      ]
    },
    {
      "cell_type": "markdown",
      "source": "### KNN\n",
      "metadata": {}
    },
    {
      "cell_type": "markdown",
      "source": "#### Q6) Create and train a KNN model called KNN using the training data (`x_train`, `y_train`) with the `n_neighbors` parameter set to `4`.\n",
      "metadata": {}
    },
    {
      "cell_type": "code",
      "source": "#Enter Your Code Below, Execute, and Save the Screenshot of the Final Output",
      "metadata": {},
      "execution_count": null,
      "outputs": []
    },
    {
      "cell_type": "code",
      "source": "from sklearn.neighbors import KNeighborsRegressor\n\nKNN = KNeighborsRegressor(n_neighbors=4)\n\nKNN.fit(x_train, y_train)",
      "metadata": {
        "trusted": true
      },
      "execution_count": 56,
      "outputs": [
        {
          "execution_count": 56,
          "output_type": "execute_result",
          "data": {
            "text/plain": "KNeighborsRegressor(n_neighbors=4)",
            "text/html": "<style>#sk-container-id-3 {color: black;background-color: white;}#sk-container-id-3 pre{padding: 0;}#sk-container-id-3 div.sk-toggleable {background-color: white;}#sk-container-id-3 label.sk-toggleable__label {cursor: pointer;display: block;width: 100%;margin-bottom: 0;padding: 0.3em;box-sizing: border-box;text-align: center;}#sk-container-id-3 label.sk-toggleable__label-arrow:before {content: \"▸\";float: left;margin-right: 0.25em;color: #696969;}#sk-container-id-3 label.sk-toggleable__label-arrow:hover:before {color: black;}#sk-container-id-3 div.sk-estimator:hover label.sk-toggleable__label-arrow:before {color: black;}#sk-container-id-3 div.sk-toggleable__content {max-height: 0;max-width: 0;overflow: hidden;text-align: left;background-color: #f0f8ff;}#sk-container-id-3 div.sk-toggleable__content pre {margin: 0.2em;color: black;border-radius: 0.25em;background-color: #f0f8ff;}#sk-container-id-3 input.sk-toggleable__control:checked~div.sk-toggleable__content {max-height: 200px;max-width: 100%;overflow: auto;}#sk-container-id-3 input.sk-toggleable__control:checked~label.sk-toggleable__label-arrow:before {content: \"▾\";}#sk-container-id-3 div.sk-estimator input.sk-toggleable__control:checked~label.sk-toggleable__label {background-color: #d4ebff;}#sk-container-id-3 div.sk-label input.sk-toggleable__control:checked~label.sk-toggleable__label {background-color: #d4ebff;}#sk-container-id-3 input.sk-hidden--visually {border: 0;clip: rect(1px 1px 1px 1px);clip: rect(1px, 1px, 1px, 1px);height: 1px;margin: -1px;overflow: hidden;padding: 0;position: absolute;width: 1px;}#sk-container-id-3 div.sk-estimator {font-family: monospace;background-color: #f0f8ff;border: 1px dotted black;border-radius: 0.25em;box-sizing: border-box;margin-bottom: 0.5em;}#sk-container-id-3 div.sk-estimator:hover {background-color: #d4ebff;}#sk-container-id-3 div.sk-parallel-item::after {content: \"\";width: 100%;border-bottom: 1px solid gray;flex-grow: 1;}#sk-container-id-3 div.sk-label:hover label.sk-toggleable__label {background-color: #d4ebff;}#sk-container-id-3 div.sk-serial::before {content: \"\";position: absolute;border-left: 1px solid gray;box-sizing: border-box;top: 0;bottom: 0;left: 50%;z-index: 0;}#sk-container-id-3 div.sk-serial {display: flex;flex-direction: column;align-items: center;background-color: white;padding-right: 0.2em;padding-left: 0.2em;position: relative;}#sk-container-id-3 div.sk-item {position: relative;z-index: 1;}#sk-container-id-3 div.sk-parallel {display: flex;align-items: stretch;justify-content: center;background-color: white;position: relative;}#sk-container-id-3 div.sk-item::before, #sk-container-id-3 div.sk-parallel-item::before {content: \"\";position: absolute;border-left: 1px solid gray;box-sizing: border-box;top: 0;bottom: 0;left: 50%;z-index: -1;}#sk-container-id-3 div.sk-parallel-item {display: flex;flex-direction: column;z-index: 1;position: relative;background-color: white;}#sk-container-id-3 div.sk-parallel-item:first-child::after {align-self: flex-end;width: 50%;}#sk-container-id-3 div.sk-parallel-item:last-child::after {align-self: flex-start;width: 50%;}#sk-container-id-3 div.sk-parallel-item:only-child::after {width: 0;}#sk-container-id-3 div.sk-dashed-wrapped {border: 1px dashed gray;margin: 0 0.4em 0.5em 0.4em;box-sizing: border-box;padding-bottom: 0.4em;background-color: white;}#sk-container-id-3 div.sk-label label {font-family: monospace;font-weight: bold;display: inline-block;line-height: 1.2em;}#sk-container-id-3 div.sk-label-container {text-align: center;}#sk-container-id-3 div.sk-container {/* jupyter's `normalize.less` sets `[hidden] { display: none; }` but bootstrap.min.css set `[hidden] { display: none !important; }` so we also need the `!important` here to be able to override the default hidden behavior on the sphinx rendered scikit-learn.org. See: https://github.com/scikit-learn/scikit-learn/issues/21755 */display: inline-block !important;position: relative;}#sk-container-id-3 div.sk-text-repr-fallback {display: none;}</style><div id=\"sk-container-id-3\" class=\"sk-top-container\"><div class=\"sk-text-repr-fallback\"><pre>KNeighborsRegressor(n_neighbors=4)</pre><b>In a Jupyter environment, please rerun this cell to show the HTML representation or trust the notebook. <br />On GitHub, the HTML representation is unable to render, please try loading this page with nbviewer.org.</b></div><div class=\"sk-container\" hidden><div class=\"sk-item\"><div class=\"sk-estimator sk-toggleable\"><input class=\"sk-toggleable__control sk-hidden--visually\" id=\"sk-estimator-id-3\" type=\"checkbox\" checked><label for=\"sk-estimator-id-3\" class=\"sk-toggleable__label sk-toggleable__label-arrow\">KNeighborsRegressor</label><div class=\"sk-toggleable__content\"><pre>KNeighborsRegressor(n_neighbors=4)</pre></div></div></div></div></div>"
          },
          "metadata": {}
        }
      ]
    },
    {
      "cell_type": "markdown",
      "source": "#### Q7) Now use the `predict` method on the testing data (`x_test`) and save it to the array `predictions`.\n",
      "metadata": {}
    },
    {
      "cell_type": "code",
      "source": "#Enter Your Code Below, Execute, and Save the Screenshot of the Final Output",
      "metadata": {},
      "execution_count": null,
      "outputs": []
    },
    {
      "cell_type": "code",
      "source": "predictions = KNN.predict(x_test)\npredictions",
      "metadata": {
        "trusted": true
      },
      "execution_count": 58,
      "outputs": [
        {
          "execution_count": 58,
          "output_type": "execute_result",
          "data": {
            "text/plain": "array([0.25, 0.  , 1.  , 0.  , 0.  , 0.5 , 0.25, 1.  , 0.75, 0.  , 0.  ,\n       0.  , 0.5 , 0.25, 0.  , 0.  , 0.  , 0.5 , 0.  , 0.  , 0.  , 1.  ,\n       0.  , 0.25, 0.  , 0.25, 0.25, 0.  , 0.75, 0.  , 0.25, 0.  , 0.25,\n       0.25, 0.5 , 1.  , 0.25, 0.25, 0.  , 0.  , 0.  , 1.  , 0.25, 0.  ,\n       0.  , 0.5 , 0.  , 0.  , 0.75, 0.  , 0.  , 0.  , 0.25, 0.  , 0.  ,\n       0.  , 0.25, 0.5 , 0.25, 0.25, 0.  , 0.  , 1.  , 0.75, 0.25, 0.25,\n       0.25, 0.  , 0.  , 0.25, 0.  , 0.  , 0.5 , 0.  , 0.5 , 0.  , 0.  ,\n       0.  , 0.  , 0.75, 0.5 , 0.25, 0.  , 0.  , 0.25, 0.  , 0.25, 0.25,\n       0.5 , 0.25, 0.  , 0.  , 0.  , 0.  , 0.  , 1.  , 0.  , 1.  , 0.  ,\n       0.  , 0.5 , 0.25, 1.  , 0.  , 1.  , 0.75, 0.  , 0.  , 0.25, 1.  ,\n       0.25, 0.25, 0.  , 0.25, 0.25, 0.  , 0.  , 0.  , 0.25, 0.  , 0.  ,\n       0.  , 0.  , 0.5 , 0.  , 0.  , 0.25, 0.5 , 0.  , 0.75, 0.5 , 0.  ,\n       0.5 , 0.  , 0.75, 0.  , 0.25, 0.25, 0.5 , 0.75, 0.  , 0.  , 0.  ,\n       0.25, 1.  , 0.  , 0.  , 0.25, 0.25, 0.75, 0.  , 0.25, 0.25, 0.5 ,\n       0.5 , 0.  , 0.25, 1.  , 0.25, 1.  , 0.75, 0.  , 0.  , 0.  , 0.  ,\n       0.  , 0.  , 0.5 , 1.  , 0.25, 1.  , 0.25, 0.5 , 0.  , 0.  , 0.  ,\n       0.25, 0.  , 0.  , 0.25, 1.  , 0.  , 0.  , 1.  , 0.25, 0.  , 0.  ,\n       0.  , 0.  , 0.  , 0.25, 0.  , 0.  , 0.5 , 0.25, 0.  , 0.  , 0.  ,\n       0.  , 0.  , 0.25, 0.  , 0.25, 0.  , 0.75, 0.  , 0.  , 0.  , 0.25,\n       0.  , 0.75, 0.75, 0.5 , 0.  , 0.  , 0.  , 0.  , 0.5 , 0.5 , 0.  ,\n       1.  , 0.  , 0.25, 0.  , 0.  , 0.5 , 0.25, 0.  , 0.25, 0.  , 0.  ,\n       0.  , 0.25, 0.75, 1.  , 0.  , 0.  , 0.75, 1.  , 0.  , 0.75, 1.  ,\n       0.  , 0.  , 0.75, 0.  , 0.  , 0.5 , 0.  , 0.  , 0.  , 0.25, 0.25,\n       0.  , 0.  , 0.75, 0.  , 1.  , 0.75, 0.75, 0.25, 0.  , 0.25, 0.25,\n       0.  , 0.  , 0.  , 0.  , 0.5 , 0.  , 0.5 , 0.25, 0.25, 1.  , 0.  ,\n       0.5 , 0.5 , 0.  , 0.25, 0.  , 0.25, 0.  , 1.  , 0.  , 0.5 , 0.  ,\n       0.25, 0.  , 0.  , 0.25, 0.  , 0.25, 0.  , 0.  , 0.  , 0.  , 0.  ,\n       0.75, 0.25, 0.  , 0.75, 0.  , 0.  , 0.25, 0.5 , 0.5 , 1.  , 0.  ,\n       1.  , 0.5 , 1.  , 0.75, 0.5 , 0.  , 1.  , 0.5 , 0.5 , 0.5 , 0.75,\n       0.  , 0.  , 0.75, 1.  , 0.  , 0.  , 0.  , 0.  , 0.  , 0.25, 0.25,\n       1.  , 0.5 , 0.  , 0.  , 0.  , 0.  , 0.  , 0.5 , 0.  , 0.  , 0.  ,\n       0.  , 0.25, 0.  , 0.  , 0.25, 0.  , 0.  , 0.  , 0.25, 0.  , 0.  ,\n       1.  , 0.25, 0.  , 0.  , 0.25, 0.5 , 0.75, 1.  , 0.75, 0.  , 0.75,\n       0.  , 0.25, 0.75, 0.5 , 0.25, 0.25, 0.25, 0.25, 0.  , 1.  , 0.5 ,\n       0.5 , 0.75, 0.25, 0.  , 0.5 , 0.25, 0.  , 0.5 , 0.25, 0.75, 0.5 ,\n       0.  , 0.  , 0.75, 0.  , 0.25, 0.  , 0.  , 0.75, 0.25, 0.25, 0.25,\n       0.5 , 0.  , 1.  , 1.  , 0.25, 0.25, 0.  , 0.  , 0.25, 0.  , 0.25,\n       0.25, 0.  , 0.  , 0.5 , 1.  , 0.  , 0.75, 0.25, 0.  , 0.  , 0.25,\n       0.25, 0.25, 0.  , 0.  , 0.  , 0.  , 0.  , 1.  , 0.25, 0.5 , 1.  ,\n       0.  , 0.25, 0.  , 1.  , 0.  , 0.25, 1.  , 0.25, 0.25, 1.  , 0.  ,\n       0.5 , 0.  , 0.  , 0.25, 0.75, 0.25, 0.  , 0.  , 0.25, 0.5 , 0.5 ,\n       0.75, 0.  , 0.  , 0.25, 0.25, 0.  , 0.5 , 0.5 , 0.25, 0.  , 0.75,\n       0.25, 0.  , 0.  , 0.25, 0.  , 0.  , 0.  , 1.  , 0.5 , 0.  , 0.  ,\n       0.  , 0.25, 0.  , 1.  , 0.  , 0.  , 0.  , 0.  , 0.  , 0.5 , 0.  ,\n       0.5 , 0.  , 0.  , 0.  , 0.  , 0.  , 0.  , 0.  , 0.25, 0.25, 1.  ,\n       0.  , 0.  , 0.25, 0.25, 0.25, 0.  , 0.25, 0.  , 0.5 , 0.25, 0.  ,\n       0.  , 0.75, 0.25, 0.25, 0.5 , 0.25, 0.25, 0.25, 0.25, 0.  , 0.  ,\n       0.  , 0.  , 0.  , 0.  , 0.  , 0.  , 0.  , 0.  , 0.75, 0.  , 0.  ,\n       0.  , 0.  , 0.25, 0.25, 1.  , 0.25, 0.25, 0.  , 0.75, 1.  , 1.  ,\n       1.  , 0.25, 0.  , 0.5 , 1.  , 0.25, 0.25, 0.75, 0.  , 0.  , 0.  ,\n       0.25, 0.  , 0.25, 0.25, 0.  , 1.  , 0.  , 0.75, 0.  , 0.  , 0.5 ,\n       0.  , 0.25, 0.25, 1.  , 0.  , 0.  , 0.25, 0.25, 0.75, 0.  , 0.5 ,\n       0.5 , 0.25, 1.  , 0.  , 0.  , 0.25, 0.25, 0.25, 0.25, 0.5 , 0.  ,\n       0.  , 0.  , 0.  , 0.25, 0.25, 0.25, 1.  , 0.  , 0.  , 0.  , 0.25,\n       0.  , 0.  , 0.5 , 1.  , 0.25, 0.  , 0.25, 0.  , 1.  , 0.  , 0.5 ,\n       0.  , 0.5 , 0.  , 0.25, 0.  , 0.5 , 0.  , 1.  , 0.  , 0.  , 0.  ,\n       1.  , 0.25, 0.  , 1.  , 0.  , 0.  , 0.75, 0.  , 0.25, 0.  , 0.5 ,\n       0.  , 0.25, 0.  , 0.25, 0.  , 0.75, 0.  , 0.5 , 0.  , 0.75, 0.75,\n       0.25, 0.25, 0.25, 0.25, 0.25, 0.  , 0.  , 0.  , 1.  , 0.75, 0.  ,\n       0.  , 0.  , 0.  , 0.75, 0.  , 0.75])"
          },
          "metadata": {}
        }
      ]
    },
    {
      "cell_type": "markdown",
      "source": "#### Q8) Using the `predictions` and the `y_test` dataframe calculate the value for each metric using the appropriate function.\n",
      "metadata": {}
    },
    {
      "cell_type": "code",
      "source": "#Enter Your Code Below, Execute, and Save the Screenshot of the Final Output",
      "metadata": {
        "trusted": true
      },
      "execution_count": 60,
      "outputs": []
    },
    {
      "cell_type": "code",
      "source": "from sklearn.metrics import accuracy_score, jaccard_score, f1_score\n\n# Assuming you have true class labels in y_test and predicted class labels in predictions\nKNN_Accuracy_Score = accuracy_score(y_test, predictions)\nKNN_JaccardIndex = jaccard_score(y_test, predictions)\nKNN_F1_Score = f1_score(y_test, predictions)\n",
      "metadata": {
        "trusted": true
      },
      "execution_count": 93,
      "outputs": []
    },
    {
      "cell_type": "code",
      "source": "KNN_Accuracy_Score = accuracy_score(y_test, predictions)\nKNN_JaccardIndex   = jaccard_score(y_test, predictions)\nKNN_F1_Score       = f1_score(y_test, predictions)",
      "metadata": {
        "trusted": true
      },
      "execution_count": 94,
      "outputs": []
    },
    {
      "cell_type": "markdown",
      "source": "### Decision Tree\n",
      "metadata": {}
    },
    {
      "cell_type": "markdown",
      "source": "#### Q9) Create and train a Decision Tree model called Tree using the training data (`x_train`, `y_train`).\n",
      "metadata": {}
    },
    {
      "cell_type": "code",
      "source": "#Enter Your Code, Execute and take the Screenshot",
      "metadata": {
        "trusted": true
      },
      "execution_count": 71,
      "outputs": []
    },
    {
      "cell_type": "code",
      "source": "from sklearn.tree import DecisionTreeRegressor\n\n# Create a Decision Tree model\nTree = DecisionTreeRegressor()\n\n# Train the model using the training data\nTree.fit(x_train, y_train)\n",
      "metadata": {
        "trusted": true
      },
      "execution_count": 70,
      "outputs": [
        {
          "execution_count": 70,
          "output_type": "execute_result",
          "data": {
            "text/plain": "DecisionTreeRegressor()",
            "text/html": "<style>#sk-container-id-4 {color: black;background-color: white;}#sk-container-id-4 pre{padding: 0;}#sk-container-id-4 div.sk-toggleable {background-color: white;}#sk-container-id-4 label.sk-toggleable__label {cursor: pointer;display: block;width: 100%;margin-bottom: 0;padding: 0.3em;box-sizing: border-box;text-align: center;}#sk-container-id-4 label.sk-toggleable__label-arrow:before {content: \"▸\";float: left;margin-right: 0.25em;color: #696969;}#sk-container-id-4 label.sk-toggleable__label-arrow:hover:before {color: black;}#sk-container-id-4 div.sk-estimator:hover label.sk-toggleable__label-arrow:before {color: black;}#sk-container-id-4 div.sk-toggleable__content {max-height: 0;max-width: 0;overflow: hidden;text-align: left;background-color: #f0f8ff;}#sk-container-id-4 div.sk-toggleable__content pre {margin: 0.2em;color: black;border-radius: 0.25em;background-color: #f0f8ff;}#sk-container-id-4 input.sk-toggleable__control:checked~div.sk-toggleable__content {max-height: 200px;max-width: 100%;overflow: auto;}#sk-container-id-4 input.sk-toggleable__control:checked~label.sk-toggleable__label-arrow:before {content: \"▾\";}#sk-container-id-4 div.sk-estimator input.sk-toggleable__control:checked~label.sk-toggleable__label {background-color: #d4ebff;}#sk-container-id-4 div.sk-label input.sk-toggleable__control:checked~label.sk-toggleable__label {background-color: #d4ebff;}#sk-container-id-4 input.sk-hidden--visually {border: 0;clip: rect(1px 1px 1px 1px);clip: rect(1px, 1px, 1px, 1px);height: 1px;margin: -1px;overflow: hidden;padding: 0;position: absolute;width: 1px;}#sk-container-id-4 div.sk-estimator {font-family: monospace;background-color: #f0f8ff;border: 1px dotted black;border-radius: 0.25em;box-sizing: border-box;margin-bottom: 0.5em;}#sk-container-id-4 div.sk-estimator:hover {background-color: #d4ebff;}#sk-container-id-4 div.sk-parallel-item::after {content: \"\";width: 100%;border-bottom: 1px solid gray;flex-grow: 1;}#sk-container-id-4 div.sk-label:hover label.sk-toggleable__label {background-color: #d4ebff;}#sk-container-id-4 div.sk-serial::before {content: \"\";position: absolute;border-left: 1px solid gray;box-sizing: border-box;top: 0;bottom: 0;left: 50%;z-index: 0;}#sk-container-id-4 div.sk-serial {display: flex;flex-direction: column;align-items: center;background-color: white;padding-right: 0.2em;padding-left: 0.2em;position: relative;}#sk-container-id-4 div.sk-item {position: relative;z-index: 1;}#sk-container-id-4 div.sk-parallel {display: flex;align-items: stretch;justify-content: center;background-color: white;position: relative;}#sk-container-id-4 div.sk-item::before, #sk-container-id-4 div.sk-parallel-item::before {content: \"\";position: absolute;border-left: 1px solid gray;box-sizing: border-box;top: 0;bottom: 0;left: 50%;z-index: -1;}#sk-container-id-4 div.sk-parallel-item {display: flex;flex-direction: column;z-index: 1;position: relative;background-color: white;}#sk-container-id-4 div.sk-parallel-item:first-child::after {align-self: flex-end;width: 50%;}#sk-container-id-4 div.sk-parallel-item:last-child::after {align-self: flex-start;width: 50%;}#sk-container-id-4 div.sk-parallel-item:only-child::after {width: 0;}#sk-container-id-4 div.sk-dashed-wrapped {border: 1px dashed gray;margin: 0 0.4em 0.5em 0.4em;box-sizing: border-box;padding-bottom: 0.4em;background-color: white;}#sk-container-id-4 div.sk-label label {font-family: monospace;font-weight: bold;display: inline-block;line-height: 1.2em;}#sk-container-id-4 div.sk-label-container {text-align: center;}#sk-container-id-4 div.sk-container {/* jupyter's `normalize.less` sets `[hidden] { display: none; }` but bootstrap.min.css set `[hidden] { display: none !important; }` so we also need the `!important` here to be able to override the default hidden behavior on the sphinx rendered scikit-learn.org. See: https://github.com/scikit-learn/scikit-learn/issues/21755 */display: inline-block !important;position: relative;}#sk-container-id-4 div.sk-text-repr-fallback {display: none;}</style><div id=\"sk-container-id-4\" class=\"sk-top-container\"><div class=\"sk-text-repr-fallback\"><pre>DecisionTreeRegressor()</pre><b>In a Jupyter environment, please rerun this cell to show the HTML representation or trust the notebook. <br />On GitHub, the HTML representation is unable to render, please try loading this page with nbviewer.org.</b></div><div class=\"sk-container\" hidden><div class=\"sk-item\"><div class=\"sk-estimator sk-toggleable\"><input class=\"sk-toggleable__control sk-hidden--visually\" id=\"sk-estimator-id-4\" type=\"checkbox\" checked><label for=\"sk-estimator-id-4\" class=\"sk-toggleable__label sk-toggleable__label-arrow\">DecisionTreeRegressor</label><div class=\"sk-toggleable__content\"><pre>DecisionTreeRegressor()</pre></div></div></div></div></div>"
          },
          "metadata": {}
        }
      ]
    },
    {
      "cell_type": "markdown",
      "source": "#### Q10) Now use the `predict` method on the testing data (`x_test`) and save it to the array `predictions`.\n",
      "metadata": {}
    },
    {
      "cell_type": "code",
      "source": "#Enter Your Code, Execute and take the Screenshot",
      "metadata": {},
      "execution_count": null,
      "outputs": []
    },
    {
      "cell_type": "code",
      "source": "predictions = Tree.predict(x_test)\npredictions",
      "metadata": {
        "trusted": true
      },
      "execution_count": 73,
      "outputs": [
        {
          "execution_count": 73,
          "output_type": "execute_result",
          "data": {
            "text/plain": "array([0., 0., 1., 0., 0., 1., 0., 1., 1., 1., 0., 0., 0., 0., 0., 0., 0.,\n       0., 0., 0., 0., 1., 0., 0., 0., 1., 0., 0., 1., 0., 0., 0., 0., 0.,\n       0., 1., 0., 0., 0., 0., 0., 0., 0., 0., 0., 1., 0., 0., 1., 0., 0.,\n       0., 0., 0., 0., 0., 0., 1., 1., 1., 0., 0., 1., 1., 0., 0., 1., 0.,\n       0., 0., 0., 0., 0., 0., 1., 0., 1., 0., 0., 1., 0., 0., 0., 0., 0.,\n       0., 1., 1., 1., 0., 0., 0., 0., 0., 0., 1., 0., 1., 0., 0., 0., 0.,\n       1., 0., 1., 1., 0., 0., 0., 1., 0., 0., 0., 0., 0., 1., 0., 1., 0.,\n       0., 0., 0., 0., 0., 0., 0., 1., 0., 0., 1., 1., 0., 1., 0., 0., 0.,\n       0., 0., 0., 1., 1., 0., 0., 0., 1., 0., 0., 0., 0., 0., 0., 1., 0.,\n       0., 0., 0., 0., 1., 0., 1., 1., 0., 0., 0., 0., 0., 0., 0., 0., 0.,\n       1., 0., 1., 0., 0., 1., 0., 0., 0., 0., 1., 0., 0., 1., 0., 0., 0.,\n       0., 0., 0., 0., 1., 0., 0., 0., 0., 0., 0., 0., 0., 1., 0., 0., 0.,\n       1., 0., 0., 0., 0., 1., 0., 0., 1., 0., 0., 0., 0., 0., 1., 0., 1.,\n       0., 0., 0., 0., 1., 1., 0., 0., 1., 0., 0., 1., 1., 1., 0., 0., 1.,\n       1., 0., 1., 1., 0., 0., 0., 0., 1., 0., 1., 1., 0., 0., 0., 1., 0.,\n       1., 1., 0., 1., 1., 0., 0., 0., 0., 0., 0., 0., 1., 0., 0., 0., 0.,\n       0., 1., 0., 0., 1., 0., 0., 0., 0., 0., 1., 0., 1., 0., 0., 0., 0.,\n       0., 0., 0., 0., 0., 0., 0., 0., 1., 0., 1., 1., 0., 0., 0., 0., 0.,\n       1., 0., 1., 0., 1., 1., 0., 0., 1., 1., 1., 0., 0., 0., 0., 0., 1.,\n       0., 0., 0., 0., 0., 0., 1., 1., 0., 0., 0., 0., 0., 0., 1., 0., 0.,\n       0., 0., 0., 0., 0., 0., 0., 0., 0., 0., 0., 0., 1., 0., 0., 0., 0.,\n       0., 1., 0., 0., 0., 0., 1., 1., 1., 1., 1., 1., 1., 0., 0., 1., 1.,\n       0., 1., 0., 0., 0., 0., 0., 1., 0., 1., 1., 0., 0., 0., 0., 0., 0.,\n       0., 1., 0., 0., 0., 1., 0., 1., 1., 0., 0., 0., 1., 1., 0., 0., 1.,\n       0., 0., 1., 0., 0., 1., 0., 0., 0., 0., 1., 0., 0., 0., 0., 0., 0.,\n       1., 1., 0., 1., 0., 0., 0., 0., 0., 1., 1., 0., 0., 1., 0., 1., 0.,\n       0., 1., 1., 0., 0., 0., 1., 1., 0., 0., 0., 0., 0., 0., 1., 0., 1.,\n       0., 0., 1., 0., 0., 0., 0., 0., 0., 0., 1., 0., 0., 0., 1., 0., 0.,\n       1., 0., 1., 0., 1., 0., 0., 0., 0., 0., 0., 0., 0., 0., 0., 0., 0.,\n       0., 1., 0., 0., 0., 0., 0., 0., 1., 1., 1., 0., 0., 0., 1., 1., 0.,\n       0., 0., 1., 1., 1., 0., 0., 0., 0., 0., 0., 0., 1., 0., 0., 1., 0.,\n       0., 0., 0., 0., 1., 1., 1., 0., 0., 1., 0., 1., 1., 0., 0., 0., 1.,\n       0., 1., 1., 1., 0., 0., 0., 0., 1., 0., 1., 1., 0., 1., 0., 0., 0.,\n       1., 1., 1., 1., 0., 0., 0., 0., 1., 0., 0., 0., 0., 1., 0., 0., 0.,\n       0., 0., 0., 1., 0., 0., 0., 1., 1., 0., 0., 1., 0., 0., 0., 0., 0.,\n       0., 0., 1., 0., 0., 0., 0., 1., 0., 0., 0., 1., 0., 1., 0., 0., 0.,\n       1., 0., 1., 0., 1., 0., 0., 1., 1., 0., 1., 0., 0., 0., 0., 0., 0.,\n       0., 1., 0., 1., 0., 0., 0., 1., 1., 0., 1., 0., 0., 0., 0., 0., 0.,\n       1., 1., 0., 0., 0., 0., 1., 0., 0.])"
          },
          "metadata": {}
        }
      ]
    },
    {
      "cell_type": "markdown",
      "source": "#### Q11) Using the `predictions` and the `y_test` dataframe calculate the value for each metric using the appropriate function.\n",
      "metadata": {}
    },
    {
      "cell_type": "code",
      "source": "#Enter Your Code, Execute and take the Screenshot",
      "metadata": {},
      "execution_count": null,
      "outputs": []
    },
    {
      "cell_type": "code",
      "source": "Tree_Accuracy_Score = accuracy_score(y_test, predictions)\nTree_JaccardIndex   = jaccard_score(y_test, predictions)\nTree_F1_Score       = f1_score(y_test, predictions)\nTree_Accuracy_Score, Tree_JaccardIndex,Tree_F1_Score",
      "metadata": {
        "trusted": true
      },
      "execution_count": 75,
      "outputs": [
        {
          "execution_count": 75,
          "output_type": "execute_result",
          "data": {
            "text/plain": "(0.7587786259541984, 0.4037735849056604, 0.575268817204301)"
          },
          "metadata": {}
        }
      ]
    },
    {
      "cell_type": "markdown",
      "source": "### Logistic Regression\n",
      "metadata": {}
    },
    {
      "cell_type": "markdown",
      "source": "#### Q12) Use the `train_test_split` function to split the `features` and `Y` dataframes with a `test_size` of `0.2` and the `random_state` set to `1`.\n",
      "metadata": {}
    },
    {
      "cell_type": "code",
      "source": "#Enter Your Code, Execute and take the Screenshot",
      "metadata": {},
      "execution_count": null,
      "outputs": []
    },
    {
      "cell_type": "code",
      "source": "x_train, x_test, y_train, y_test = train_test_split(features, Y, test_size=0.2, random_state=1)\nx_train, x_test, y_train, y_test",
      "metadata": {
        "trusted": true
      },
      "execution_count": 77,
      "outputs": [
        {
          "execution_count": 77,
          "output_type": "execute_result",
          "data": {
            "text/plain": "(      MinTemp  MaxTemp  Rainfall  Evaporation  Sunshine  WindGustSpeed  \\\n 1264     12.3     19.7      30.0          4.0       7.2           44.0   \n 3113     25.1     38.1       0.0         13.8      11.1           59.0   \n 1230     12.2     17.5       0.0          2.8       3.0           41.0   \n 1221     10.3     16.5       1.0          2.2       0.8           24.0   \n 3070     20.4     23.6       3.2          7.0       0.0           33.0   \n ...       ...      ...       ...          ...       ...            ...   \n 2763     19.5     28.7       9.0          3.0       3.0           70.0   \n 905       6.8     16.1       0.0          4.2      10.2           41.0   \n 1096     20.6     28.1       1.0          3.2       9.8           41.0   \n 235      10.3     18.6       0.0          4.0      10.9           41.0   \n 1061     24.2     41.5       0.0          8.4      12.4           56.0   \n \n       WindSpeed9am  WindSpeed3pm  Humidity9am  Humidity3pm  ...  \\\n 1264          24.0          17.0         52.0         45.0  ...   \n 3113          20.0          31.0         26.0         52.0  ...   \n 1230          17.0          11.0         86.0         69.0  ...   \n 1221           7.0          11.0         89.0         71.0  ...   \n 3070          15.0           7.0         86.0         83.0  ...   \n ...            ...           ...          ...          ...  ...   \n 2763          17.0          17.0         84.0         62.0  ...   \n 905           26.0          20.0         58.0         50.0  ...   \n 1096           4.0          20.0         82.0         69.0  ...   \n 235            6.0          19.0         67.0         54.0  ...   \n 1061          24.0          33.0         46.0         22.0  ...   \n \n       WindDir3pm_NNW  WindDir3pm_NW  WindDir3pm_S  WindDir3pm_SE  \\\n 1264             0.0            0.0           0.0            0.0   \n 3113             0.0            0.0           0.0            0.0   \n 1230             0.0            0.0           0.0            0.0   \n 1221             0.0            0.0           0.0            0.0   \n 3070             0.0            0.0           0.0            0.0   \n ...              ...            ...           ...            ...   \n 2763             0.0            0.0           0.0            0.0   \n 905              0.0            0.0           1.0            0.0   \n 1096             0.0            0.0           0.0            0.0   \n 235              0.0            0.0           0.0            0.0   \n 1061             1.0            0.0           0.0            0.0   \n \n       WindDir3pm_SSE  WindDir3pm_SSW  WindDir3pm_SW  WindDir3pm_W  \\\n 1264             0.0             0.0            0.0           0.0   \n 3113             1.0             0.0            0.0           0.0   \n 1230             0.0             0.0            0.0           0.0   \n 1221             0.0             0.0            0.0           0.0   \n 3070             0.0             0.0            0.0           0.0   \n ...              ...             ...            ...           ...   \n 2763             0.0             0.0            0.0           0.0   \n 905              0.0             0.0            0.0           0.0   \n 1096             0.0             0.0            0.0           0.0   \n 235              0.0             0.0            0.0           0.0   \n 1061             0.0             0.0            0.0           0.0   \n \n       WindDir3pm_WNW  WindDir3pm_WSW  \n 1264             0.0             0.0  \n 3113             0.0             0.0  \n 1230             0.0             0.0  \n 1221             0.0             0.0  \n 3070             0.0             0.0  \n ...              ...             ...  \n 2763             0.0             0.0  \n 905              0.0             0.0  \n 1096             0.0             0.0  \n 235              0.0             0.0  \n 1061             0.0             0.0  \n \n [2616 rows x 66 columns],\n       MinTemp  MaxTemp  Rainfall  Evaporation  Sunshine  WindGustSpeed  \\\n 255      15.1     18.9       9.0          3.2       5.0           41.0   \n 1552      9.0     18.2       0.0          5.0      10.0           46.0   \n 1353     20.0     26.8       0.0          9.0       4.7           59.0   \n 1060     24.0     33.7       0.0          5.2       6.8           43.0   \n 808      12.6     24.9       0.0          2.4      10.6           41.0   \n ...       ...      ...       ...          ...       ...            ...   \n 1224     10.2     16.9       0.0          2.0       1.1           52.0   \n 756      20.9     26.7      14.0          3.4       6.2           41.0   \n 2774     19.6     28.5       0.2          7.6      12.7           43.0   \n 1387     21.7     33.2       1.4          8.8       9.4           56.0   \n 1723     20.8     24.3       0.0          7.8       1.3           43.0   \n \n       WindSpeed9am  WindSpeed3pm  Humidity9am  Humidity3pm  ...  \\\n 255           20.0          17.0         63.0         55.0  ...   \n 1552           9.0          17.0         52.0         33.0  ...   \n 1353          17.0           9.0         61.0         68.0  ...   \n 1060           7.0          28.0         72.0         73.0  ...   \n 808           15.0           9.0         64.0         32.0  ...   \n ...            ...           ...          ...          ...  ...   \n 1224          17.0          17.0         91.0         80.0  ...   \n 756            2.0          15.0         90.0         77.0  ...   \n 2774          11.0          22.0         68.0         46.0  ...   \n 1387          17.0          24.0         69.0         52.0  ...   \n 1723           7.0          11.0         72.0         68.0  ...   \n \n       WindDir3pm_NNW  WindDir3pm_NW  WindDir3pm_S  WindDir3pm_SE  \\\n 255              0.0            0.0           0.0            1.0   \n 1552             0.0            0.0           0.0            0.0   \n 1353             0.0            0.0           0.0            0.0   \n 1060             0.0            0.0           0.0            0.0   \n 808              0.0            0.0           0.0            0.0   \n ...              ...            ...           ...            ...   \n 1224             0.0            0.0           0.0            0.0   \n 756              0.0            0.0           0.0            0.0   \n 2774             0.0            0.0           0.0            0.0   \n 1387             1.0            0.0           0.0            0.0   \n 1723             0.0            0.0           0.0            0.0   \n \n       WindDir3pm_SSE  WindDir3pm_SSW  WindDir3pm_SW  WindDir3pm_W  \\\n 255              0.0             0.0            0.0           0.0   \n 1552             0.0             0.0            0.0           0.0   \n 1353             0.0             0.0            0.0           0.0   \n 1060             0.0             0.0            0.0           0.0   \n 808              0.0             0.0            0.0           1.0   \n ...              ...             ...            ...           ...   \n 1224             0.0             0.0            0.0           0.0   \n 756              0.0             0.0            0.0           0.0   \n 2774             0.0             0.0            0.0           0.0   \n 1387             0.0             0.0            0.0           0.0   \n 1723             0.0             1.0            0.0           0.0   \n \n       WindDir3pm_WNW  WindDir3pm_WSW  \n 255              0.0             0.0  \n 1552             0.0             1.0  \n 1353             0.0             0.0  \n 1060             0.0             0.0  \n 808              0.0             0.0  \n ...              ...             ...  \n 1224             0.0             0.0  \n 756              0.0             0.0  \n 2774             0.0             0.0  \n 1387             0.0             0.0  \n 1723             0.0             0.0  \n \n [655 rows x 66 columns],\n 1264    0.0\n 3113    0.0\n 1230    0.0\n 1221    0.0\n 3070    1.0\n        ... \n 2763    1.0\n 905     0.0\n 1096    0.0\n 235     0.0\n 1061    0.0\n Name: RainTomorrow, Length: 2616, dtype: float64,\n 255     0.0\n 1552    0.0\n 1353    0.0\n 1060    0.0\n 808     0.0\n        ... \n 1224    1.0\n 756     0.0\n 2774    0.0\n 1387    0.0\n 1723    0.0\n Name: RainTomorrow, Length: 655, dtype: float64)"
          },
          "metadata": {}
        }
      ]
    },
    {
      "cell_type": "markdown",
      "source": "#### Q13) Create and train a LogisticRegression model called LR using the training data (`x_train`, `y_train`) with the `solver` parameter set to `liblinear`.\n",
      "metadata": {}
    },
    {
      "cell_type": "code",
      "source": "#Enter Your Code, Execute and take the Screenshot",
      "metadata": {},
      "execution_count": null,
      "outputs": []
    },
    {
      "cell_type": "code",
      "source": "from sklearn.linear_model import LogisticRegression\n\n# Create a Logistic Regression model with the 'liblinear' solver\nLR = LogisticRegression(solver='liblinear')\n\n# Train the model using the training data\nLR.fit(x_train, y_train)\n\n\nLR",
      "metadata": {
        "trusted": true
      },
      "execution_count": 78,
      "outputs": [
        {
          "execution_count": 78,
          "output_type": "execute_result",
          "data": {
            "text/plain": "LogisticRegression(solver='liblinear')",
            "text/html": "<style>#sk-container-id-5 {color: black;background-color: white;}#sk-container-id-5 pre{padding: 0;}#sk-container-id-5 div.sk-toggleable {background-color: white;}#sk-container-id-5 label.sk-toggleable__label {cursor: pointer;display: block;width: 100%;margin-bottom: 0;padding: 0.3em;box-sizing: border-box;text-align: center;}#sk-container-id-5 label.sk-toggleable__label-arrow:before {content: \"▸\";float: left;margin-right: 0.25em;color: #696969;}#sk-container-id-5 label.sk-toggleable__label-arrow:hover:before {color: black;}#sk-container-id-5 div.sk-estimator:hover label.sk-toggleable__label-arrow:before {color: black;}#sk-container-id-5 div.sk-toggleable__content {max-height: 0;max-width: 0;overflow: hidden;text-align: left;background-color: #f0f8ff;}#sk-container-id-5 div.sk-toggleable__content pre {margin: 0.2em;color: black;border-radius: 0.25em;background-color: #f0f8ff;}#sk-container-id-5 input.sk-toggleable__control:checked~div.sk-toggleable__content {max-height: 200px;max-width: 100%;overflow: auto;}#sk-container-id-5 input.sk-toggleable__control:checked~label.sk-toggleable__label-arrow:before {content: \"▾\";}#sk-container-id-5 div.sk-estimator input.sk-toggleable__control:checked~label.sk-toggleable__label {background-color: #d4ebff;}#sk-container-id-5 div.sk-label input.sk-toggleable__control:checked~label.sk-toggleable__label {background-color: #d4ebff;}#sk-container-id-5 input.sk-hidden--visually {border: 0;clip: rect(1px 1px 1px 1px);clip: rect(1px, 1px, 1px, 1px);height: 1px;margin: -1px;overflow: hidden;padding: 0;position: absolute;width: 1px;}#sk-container-id-5 div.sk-estimator {font-family: monospace;background-color: #f0f8ff;border: 1px dotted black;border-radius: 0.25em;box-sizing: border-box;margin-bottom: 0.5em;}#sk-container-id-5 div.sk-estimator:hover {background-color: #d4ebff;}#sk-container-id-5 div.sk-parallel-item::after {content: \"\";width: 100%;border-bottom: 1px solid gray;flex-grow: 1;}#sk-container-id-5 div.sk-label:hover label.sk-toggleable__label {background-color: #d4ebff;}#sk-container-id-5 div.sk-serial::before {content: \"\";position: absolute;border-left: 1px solid gray;box-sizing: border-box;top: 0;bottom: 0;left: 50%;z-index: 0;}#sk-container-id-5 div.sk-serial {display: flex;flex-direction: column;align-items: center;background-color: white;padding-right: 0.2em;padding-left: 0.2em;position: relative;}#sk-container-id-5 div.sk-item {position: relative;z-index: 1;}#sk-container-id-5 div.sk-parallel {display: flex;align-items: stretch;justify-content: center;background-color: white;position: relative;}#sk-container-id-5 div.sk-item::before, #sk-container-id-5 div.sk-parallel-item::before {content: \"\";position: absolute;border-left: 1px solid gray;box-sizing: border-box;top: 0;bottom: 0;left: 50%;z-index: -1;}#sk-container-id-5 div.sk-parallel-item {display: flex;flex-direction: column;z-index: 1;position: relative;background-color: white;}#sk-container-id-5 div.sk-parallel-item:first-child::after {align-self: flex-end;width: 50%;}#sk-container-id-5 div.sk-parallel-item:last-child::after {align-self: flex-start;width: 50%;}#sk-container-id-5 div.sk-parallel-item:only-child::after {width: 0;}#sk-container-id-5 div.sk-dashed-wrapped {border: 1px dashed gray;margin: 0 0.4em 0.5em 0.4em;box-sizing: border-box;padding-bottom: 0.4em;background-color: white;}#sk-container-id-5 div.sk-label label {font-family: monospace;font-weight: bold;display: inline-block;line-height: 1.2em;}#sk-container-id-5 div.sk-label-container {text-align: center;}#sk-container-id-5 div.sk-container {/* jupyter's `normalize.less` sets `[hidden] { display: none; }` but bootstrap.min.css set `[hidden] { display: none !important; }` so we also need the `!important` here to be able to override the default hidden behavior on the sphinx rendered scikit-learn.org. See: https://github.com/scikit-learn/scikit-learn/issues/21755 */display: inline-block !important;position: relative;}#sk-container-id-5 div.sk-text-repr-fallback {display: none;}</style><div id=\"sk-container-id-5\" class=\"sk-top-container\"><div class=\"sk-text-repr-fallback\"><pre>LogisticRegression(solver=&#x27;liblinear&#x27;)</pre><b>In a Jupyter environment, please rerun this cell to show the HTML representation or trust the notebook. <br />On GitHub, the HTML representation is unable to render, please try loading this page with nbviewer.org.</b></div><div class=\"sk-container\" hidden><div class=\"sk-item\"><div class=\"sk-estimator sk-toggleable\"><input class=\"sk-toggleable__control sk-hidden--visually\" id=\"sk-estimator-id-5\" type=\"checkbox\" checked><label for=\"sk-estimator-id-5\" class=\"sk-toggleable__label sk-toggleable__label-arrow\">LogisticRegression</label><div class=\"sk-toggleable__content\"><pre>LogisticRegression(solver=&#x27;liblinear&#x27;)</pre></div></div></div></div></div>"
          },
          "metadata": {}
        }
      ]
    },
    {
      "cell_type": "markdown",
      "source": "#### Q14) Now, use the `predict` and `predict_proba` methods on the testing data (`x_test`) and save it as 2 arrays `predictions` and `predict_proba`.\n",
      "metadata": {}
    },
    {
      "cell_type": "code",
      "source": "#Enter Your Code, Execute and take the Screenshot",
      "metadata": {},
      "execution_count": null,
      "outputs": []
    },
    {
      "cell_type": "code",
      "source": "predictions = LR.predict(x_test)",
      "metadata": {
        "trusted": true
      },
      "execution_count": 79,
      "outputs": []
    },
    {
      "cell_type": "code",
      "source": "predict_proba = LR.predict_proba(x_test)",
      "metadata": {
        "trusted": true
      },
      "execution_count": 80,
      "outputs": []
    },
    {
      "cell_type": "markdown",
      "source": "#### Q15) Using the `predictions`, `predict_proba` and the `y_test` dataframe calculate the value for each metric using the appropriate function.\n",
      "metadata": {}
    },
    {
      "cell_type": "code",
      "source": "#Enter Your Code, Execute and take the Screenshot",
      "metadata": {},
      "execution_count": null,
      "outputs": []
    },
    {
      "cell_type": "code",
      "source": "LR_Accuracy_Score = accuracy_score(y_test, predictions)\nLR_JaccardIndex   = jaccard_score(y_test, predictions, average='weighted')\nLR_F1_Score       = f1_score(y_test, predictions, average='weighted')\nLR_Log_Loss       = log_loss(y_test, predict_proba)\n\nLR_Accuracy_Score,LR_JaccardIndex,LR_F1_Score,LR_Log_Loss",
      "metadata": {
        "trusted": true
      },
      "execution_count": 82,
      "outputs": [
        {
          "execution_count": 82,
          "output_type": "execute_result",
          "data": {
            "text/plain": "(0.8366412213740458, 0.7215798447329068, 0.8308660720656912, 0.381414506461098)"
          },
          "metadata": {}
        }
      ]
    },
    {
      "cell_type": "markdown",
      "source": "### SVM\n",
      "metadata": {}
    },
    {
      "cell_type": "markdown",
      "source": "#### Q16) Create and train a SVM model called SVM using the training data (`x_train`, `y_train`).\n",
      "metadata": {}
    },
    {
      "cell_type": "code",
      "source": "#Enter Your Code Below, Execute, and Save the Screenshot of the Final Output",
      "metadata": {},
      "execution_count": null,
      "outputs": []
    },
    {
      "cell_type": "code",
      "source": "from sklearn.svm import SVC\n\nSVM = SVC()\n\nSVM.fit(x_train, y_train)",
      "metadata": {
        "trusted": true
      },
      "execution_count": 84,
      "outputs": [
        {
          "execution_count": 84,
          "output_type": "execute_result",
          "data": {
            "text/plain": "SVC()",
            "text/html": "<style>#sk-container-id-6 {color: black;background-color: white;}#sk-container-id-6 pre{padding: 0;}#sk-container-id-6 div.sk-toggleable {background-color: white;}#sk-container-id-6 label.sk-toggleable__label {cursor: pointer;display: block;width: 100%;margin-bottom: 0;padding: 0.3em;box-sizing: border-box;text-align: center;}#sk-container-id-6 label.sk-toggleable__label-arrow:before {content: \"▸\";float: left;margin-right: 0.25em;color: #696969;}#sk-container-id-6 label.sk-toggleable__label-arrow:hover:before {color: black;}#sk-container-id-6 div.sk-estimator:hover label.sk-toggleable__label-arrow:before {color: black;}#sk-container-id-6 div.sk-toggleable__content {max-height: 0;max-width: 0;overflow: hidden;text-align: left;background-color: #f0f8ff;}#sk-container-id-6 div.sk-toggleable__content pre {margin: 0.2em;color: black;border-radius: 0.25em;background-color: #f0f8ff;}#sk-container-id-6 input.sk-toggleable__control:checked~div.sk-toggleable__content {max-height: 200px;max-width: 100%;overflow: auto;}#sk-container-id-6 input.sk-toggleable__control:checked~label.sk-toggleable__label-arrow:before {content: \"▾\";}#sk-container-id-6 div.sk-estimator input.sk-toggleable__control:checked~label.sk-toggleable__label {background-color: #d4ebff;}#sk-container-id-6 div.sk-label input.sk-toggleable__control:checked~label.sk-toggleable__label {background-color: #d4ebff;}#sk-container-id-6 input.sk-hidden--visually {border: 0;clip: rect(1px 1px 1px 1px);clip: rect(1px, 1px, 1px, 1px);height: 1px;margin: -1px;overflow: hidden;padding: 0;position: absolute;width: 1px;}#sk-container-id-6 div.sk-estimator {font-family: monospace;background-color: #f0f8ff;border: 1px dotted black;border-radius: 0.25em;box-sizing: border-box;margin-bottom: 0.5em;}#sk-container-id-6 div.sk-estimator:hover {background-color: #d4ebff;}#sk-container-id-6 div.sk-parallel-item::after {content: \"\";width: 100%;border-bottom: 1px solid gray;flex-grow: 1;}#sk-container-id-6 div.sk-label:hover label.sk-toggleable__label {background-color: #d4ebff;}#sk-container-id-6 div.sk-serial::before {content: \"\";position: absolute;border-left: 1px solid gray;box-sizing: border-box;top: 0;bottom: 0;left: 50%;z-index: 0;}#sk-container-id-6 div.sk-serial {display: flex;flex-direction: column;align-items: center;background-color: white;padding-right: 0.2em;padding-left: 0.2em;position: relative;}#sk-container-id-6 div.sk-item {position: relative;z-index: 1;}#sk-container-id-6 div.sk-parallel {display: flex;align-items: stretch;justify-content: center;background-color: white;position: relative;}#sk-container-id-6 div.sk-item::before, #sk-container-id-6 div.sk-parallel-item::before {content: \"\";position: absolute;border-left: 1px solid gray;box-sizing: border-box;top: 0;bottom: 0;left: 50%;z-index: -1;}#sk-container-id-6 div.sk-parallel-item {display: flex;flex-direction: column;z-index: 1;position: relative;background-color: white;}#sk-container-id-6 div.sk-parallel-item:first-child::after {align-self: flex-end;width: 50%;}#sk-container-id-6 div.sk-parallel-item:last-child::after {align-self: flex-start;width: 50%;}#sk-container-id-6 div.sk-parallel-item:only-child::after {width: 0;}#sk-container-id-6 div.sk-dashed-wrapped {border: 1px dashed gray;margin: 0 0.4em 0.5em 0.4em;box-sizing: border-box;padding-bottom: 0.4em;background-color: white;}#sk-container-id-6 div.sk-label label {font-family: monospace;font-weight: bold;display: inline-block;line-height: 1.2em;}#sk-container-id-6 div.sk-label-container {text-align: center;}#sk-container-id-6 div.sk-container {/* jupyter's `normalize.less` sets `[hidden] { display: none; }` but bootstrap.min.css set `[hidden] { display: none !important; }` so we also need the `!important` here to be able to override the default hidden behavior on the sphinx rendered scikit-learn.org. See: https://github.com/scikit-learn/scikit-learn/issues/21755 */display: inline-block !important;position: relative;}#sk-container-id-6 div.sk-text-repr-fallback {display: none;}</style><div id=\"sk-container-id-6\" class=\"sk-top-container\"><div class=\"sk-text-repr-fallback\"><pre>SVC()</pre><b>In a Jupyter environment, please rerun this cell to show the HTML representation or trust the notebook. <br />On GitHub, the HTML representation is unable to render, please try loading this page with nbviewer.org.</b></div><div class=\"sk-container\" hidden><div class=\"sk-item\"><div class=\"sk-estimator sk-toggleable\"><input class=\"sk-toggleable__control sk-hidden--visually\" id=\"sk-estimator-id-6\" type=\"checkbox\" checked><label for=\"sk-estimator-id-6\" class=\"sk-toggleable__label sk-toggleable__label-arrow\">SVC</label><div class=\"sk-toggleable__content\"><pre>SVC()</pre></div></div></div></div></div>"
          },
          "metadata": {}
        }
      ]
    },
    {
      "cell_type": "markdown",
      "source": "#### Q17) Now use the `predict` method on the testing data (`x_test`) and save it to the array `predictions`.\n",
      "metadata": {}
    },
    {
      "cell_type": "code",
      "source": "#Enter Your Code Below, Execute, and Save the Screenshot of the Final Output",
      "metadata": {},
      "execution_count": null,
      "outputs": []
    },
    {
      "cell_type": "code",
      "source": "predictions = SVM.predict(x_test)\npredictions",
      "metadata": {
        "trusted": true
      },
      "execution_count": 87,
      "outputs": [
        {
          "execution_count": 87,
          "output_type": "execute_result",
          "data": {
            "text/plain": "array([0., 0., 0., 0., 0., 0., 0., 0., 0., 0., 0., 0., 0., 0., 0., 0., 0.,\n       0., 0., 0., 0., 0., 0., 0., 0., 0., 0., 0., 0., 0., 0., 0., 0., 0.,\n       0., 0., 0., 0., 0., 0., 0., 0., 0., 0., 0., 0., 0., 0., 0., 0., 0.,\n       0., 0., 0., 0., 0., 0., 0., 0., 0., 0., 0., 0., 0., 0., 0., 0., 0.,\n       0., 0., 0., 0., 0., 0., 0., 0., 0., 0., 0., 0., 0., 0., 0., 0., 0.,\n       0., 0., 0., 0., 0., 0., 0., 0., 0., 0., 0., 0., 0., 0., 0., 0., 0.,\n       0., 0., 0., 0., 0., 0., 0., 0., 0., 0., 0., 0., 0., 0., 0., 0., 0.,\n       0., 0., 0., 0., 0., 0., 0., 0., 0., 0., 0., 0., 0., 0., 0., 0., 0.,\n       0., 0., 0., 0., 0., 0., 0., 0., 0., 0., 0., 0., 0., 0., 0., 0., 0.,\n       0., 0., 0., 0., 0., 0., 0., 0., 0., 0., 0., 0., 0., 0., 0., 0., 0.,\n       0., 0., 0., 0., 0., 0., 0., 0., 0., 0., 0., 0., 0., 0., 0., 0., 0.,\n       0., 0., 0., 0., 0., 0., 0., 0., 0., 0., 0., 0., 0., 0., 0., 0., 0.,\n       0., 0., 0., 0., 0., 0., 0., 0., 0., 0., 0., 0., 0., 0., 0., 0., 0.,\n       0., 0., 0., 0., 0., 0., 0., 0., 0., 0., 0., 0., 0., 0., 0., 0., 0.,\n       0., 0., 0., 0., 0., 0., 0., 0., 0., 0., 0., 0., 0., 0., 0., 0., 0.,\n       0., 0., 0., 0., 0., 0., 0., 0., 0., 0., 0., 0., 0., 0., 0., 0., 0.,\n       0., 0., 0., 0., 0., 0., 0., 0., 0., 0., 0., 0., 0., 0., 0., 0., 0.,\n       0., 0., 0., 0., 0., 0., 0., 0., 0., 0., 0., 0., 0., 0., 0., 0., 0.,\n       0., 0., 0., 0., 0., 0., 0., 0., 0., 0., 0., 0., 0., 0., 0., 0., 0.,\n       0., 0., 0., 0., 0., 0., 0., 0., 0., 0., 0., 0., 0., 0., 0., 0., 0.,\n       0., 0., 0., 0., 0., 0., 0., 0., 0., 0., 0., 0., 0., 0., 0., 0., 0.,\n       0., 0., 0., 0., 0., 0., 0., 0., 0., 0., 0., 0., 0., 0., 0., 0., 0.,\n       0., 0., 0., 0., 0., 0., 0., 0., 0., 0., 0., 0., 0., 0., 0., 0., 0.,\n       0., 0., 0., 0., 0., 0., 0., 0., 0., 0., 0., 0., 0., 0., 0., 0., 0.,\n       0., 0., 0., 0., 0., 0., 0., 0., 0., 0., 0., 0., 0., 0., 0., 0., 0.,\n       0., 0., 0., 0., 0., 0., 0., 0., 0., 0., 0., 0., 0., 0., 0., 0., 0.,\n       0., 0., 0., 0., 0., 0., 0., 0., 0., 0., 0., 0., 0., 0., 0., 0., 0.,\n       0., 0., 0., 0., 0., 0., 0., 0., 0., 0., 0., 0., 0., 0., 0., 0., 0.,\n       0., 0., 0., 0., 0., 0., 0., 0., 0., 0., 0., 0., 0., 0., 0., 0., 0.,\n       0., 0., 0., 0., 0., 0., 0., 0., 0., 0., 0., 0., 0., 0., 0., 0., 0.,\n       0., 0., 0., 0., 0., 0., 0., 0., 0., 0., 0., 0., 0., 0., 0., 0., 0.,\n       0., 0., 0., 0., 0., 0., 0., 0., 0., 0., 0., 0., 0., 0., 0., 0., 0.,\n       0., 0., 0., 0., 0., 0., 0., 0., 0., 0., 0., 0., 0., 0., 0., 0., 0.,\n       0., 0., 0., 0., 0., 0., 0., 0., 0., 0., 0., 0., 0., 0., 0., 0., 0.,\n       0., 0., 0., 0., 0., 0., 0., 0., 0., 0., 0., 0., 0., 0., 0., 0., 0.,\n       0., 0., 0., 0., 0., 0., 0., 0., 0., 0., 0., 0., 0., 0., 0., 0., 0.,\n       0., 0., 0., 0., 0., 0., 0., 0., 0., 0., 0., 0., 0., 0., 0., 0., 0.,\n       0., 0., 0., 0., 0., 0., 0., 0., 0., 0., 0., 0., 0., 0., 0., 0., 0.,\n       0., 0., 0., 0., 0., 0., 0., 0., 0.])"
          },
          "metadata": {}
        }
      ]
    },
    {
      "cell_type": "markdown",
      "source": "#### Q18) Using the `predictions` and the `y_test` dataframe calculate the value for each metric using the appropriate function.\n",
      "metadata": {}
    },
    {
      "cell_type": "code",
      "source": "SVM_Accuracy_Score = accuracy_score(y_test, predictions) \nSVM_JaccardIndex   = jaccard_score(y_test, predictions, average='weighted')\nSVM_F1_Score       = f1_score(y_test, predictions, average='weighted')\n\nSVM_Accuracy_Score,SVM_JaccardIndex,SVM_F1_Score",
      "metadata": {
        "trusted": true
      },
      "execution_count": 88,
      "outputs": [
        {
          "execution_count": 88,
          "output_type": "execute_result",
          "data": {
            "text/plain": "(0.7221374045801526, 0.5214824310937591, 0.6056223268908018)"
          },
          "metadata": {}
        }
      ]
    },
    {
      "cell_type": "markdown",
      "source": "### Report\n",
      "metadata": {}
    },
    {
      "cell_type": "markdown",
      "source": "#### Q19) Show the Accuracy,Jaccard Index,F1-Score and LogLoss in a tabular format using data frame for all of the above models.\n\n\\*LogLoss is only for Logistic Regression Model\n",
      "metadata": {}
    },
    {
      "cell_type": "code",
      "source": "\n# Linear Regression Metrics\nlinear_reg_metrics = [LR_Accuracy_Score, LR_JaccardIndex, LR_F1_Score, None]\n\n# K-Nearest Neighbors Metrics\nknn_metrics = [KNN_Accuracy_Score, KNN_JaccardIndex, KNN_F1_Score, None]\n\n# Decision Tree Metrics\ndecision_tree_metrics = [None, None, None, None]  # Replace with actual values if available\n\n# Support Vector Machine Metrics\nsvm_metrics = [SVM_Accuracy_Score, SVM_JaccardIndex, SVM_F1_Score, None]\n\n# Logistic Regression Metrics\nlogistic_reg_metrics = [LR_Accuracy_Score, LR_JaccardIndex, LR_F1_Score, LR_Log_Loss]\n\n# Create a DataFrame\nreport_df = pd.DataFrame({\n    'Model': ['Linear Regression', 'K-Nearest Neighbors', 'Decision Tree', 'Support Vector Machine', 'Logistic Regression'],\n    'Accuracy': [round(val, 2) if val is not None else None for val in [LR_Accuracy_Score, KNN_Accuracy_Score, None, SVM_Accuracy_Score, LR_Accuracy_Score]],\n    'Jaccard Index': [round(val, 2) if val is not None else None for val in [LR_JaccardIndex, KNN_JaccardIndex, None, SVM_JaccardIndex, LR_JaccardIndex]],\n    'F1-Score': [round(val, 2) if val is not None else None for val in [LR_F1_Score, KNN_F1_Score, None, SVM_F1_Score, LR_F1_Score]],\n    'LogLoss': [None, None, None, None, round(LR_Log_Loss, 2) if LR_Log_Loss is not None else None]\n})\n\n# Display the report DataFrame\nprint(report_df)\n\n\n# Report = ",
      "metadata": {
        "trusted": true
      },
      "execution_count": 95,
      "outputs": [
        {
          "name": "stdout",
          "text": "                    Model  Accuracy  Jaccard Index  F1-Score  LogLoss\n0       Linear Regression      0.84           0.72      0.83      NaN\n1     K-Nearest Neighbors      0.72           0.00      0.00      NaN\n2           Decision Tree       NaN            NaN       NaN      NaN\n3  Support Vector Machine      0.72           0.52      0.61      NaN\n4     Logistic Regression      0.84           0.72      0.83     0.38\n",
          "output_type": "stream"
        }
      ]
    },
    {
      "cell_type": "markdown",
      "source": "<h2 id=\"Section_5\">  How to submit </h2>\n\n<p>Once you complete your notebook you will have to share it. You can download the notebook by navigating to \"File\" and clicking on \"Download\" button.\n\n<p>This will save the (.ipynb) file on your computer. Once saved, you can upload this file in the \"My Submission\" tab, of the \"Peer-graded Assignment\" section.  \n",
      "metadata": {}
    },
    {
      "cell_type": "markdown",
      "source": "<h2>About the Authors:</h2> \n\n<a href=\"https://www.linkedin.com/in/joseph-s-50398b136/?utm_medium=Exinfluencer&utm_source=Exinfluencer&utm_content=000026UJ&utm_term=10006555&utm_id=NA-SkillsNetwork-Channel-SkillsNetworkCoursesIBMDeveloperSkillsNetworkML0101ENSkillsNetwork20718538-2022-01-01\">Joseph Santarcangelo</a> has a PhD in Electrical Engineering, his research focused on using machine learning, signal processing, and computer vision to determine how videos impact human cognition. Joseph has been working for IBM since he completed his PhD.\n\n### Other Contributors\n\n[Svitlana Kramar](https://www.linkedin.com/in/svitlana-kramar/?utm_medium=Exinfluencer&utm_source=Exinfluencer&utm_content=000026UJ&utm_term=10006555&utm_id=NA-SkillsNetwork-Channel-SkillsNetworkCoursesIBMML0232ENSkillsNetwork30654641-2022-01-01)\n",
      "metadata": {}
    },
    {
      "cell_type": "markdown",
      "source": "## Change Log\n\n| Date (YYYY-MM-DD) | Version | Changed By    | Change Description          |\n| ----------------- | ------- | ------------- | --------------------------- |\n| 2022-06-22        | 2.0     | Svitlana K.   | Deleted GridSearch and Mock |\n\n## <h3 align=\"center\"> © IBM Corporation 2020. All rights reserved. <h3/>\n",
      "metadata": {}
    }
  ]
}